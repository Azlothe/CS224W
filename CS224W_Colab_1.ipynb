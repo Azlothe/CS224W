{
  "nbformat": 4,
  "nbformat_minor": 0,
  "metadata": {
    "kernelspec": {
      "display_name": "Python 3",
      "language": "python",
      "name": "python3"
    },
    "language_info": {
      "codemirror_mode": {
        "name": "ipython",
        "version": 3
      },
      "file_extension": ".py",
      "mimetype": "text/x-python",
      "name": "python",
      "nbconvert_exporter": "python",
      "pygments_lexer": "ipython3",
      "version": "3.7.3"
    },
    "colab": {
      "provenance": [],
      "machine_shape": "hm",
      "collapsed_sections": [
        "XuXWJLEm2UWS",
        "Nwwq0nSdmsOL",
        "FDkpByYYfSzb",
        "VqUnYT5qUZYh",
        "FX25Y1CrYmgN",
        "Fk02fD4vYmZI",
        "zghQ-AhXYmP4",
        "icTcOULeYmIu",
        "-MxvowibYl4x",
        "eDA8PosrA-9V",
        "fko_2wSKYlun",
        "I9EfegIRDkk2",
        "UBL-ZmdHWqIu",
        "Wk9Q-a-9qGsw",
        "NDBxRQcZ_dUH",
        "4QfoANibTzyh",
        "bQIyuEz9ANb2",
        "WX2PSXnTDiNi",
        "FTNyrAoSVeq9"
      ]
    }
  },
  "cells": [
    {
      "cell_type": "markdown",
      "metadata": {
        "id": "XuXWJLEm2UWS"
      },
      "source": [
        "# **CS224W - Colab 1**"
      ]
    },
    {
      "cell_type": "markdown",
      "metadata": {
        "id": "8gzsP50bF6Gb"
      },
      "source": [
        "In this Colab, we will write a full pipeline for **learning node embeddings**.\n",
        "We will go through the following 3 steps.\n",
        "\n",
        "To start, we will load a classic graph in network science, the [Karate Club Network](https://en.wikipedia.org/wiki/Zachary%27s_karate_club). We will explore multiple graph statistics for that graph.\n",
        "\n",
        "We will then work together to transform the graph structure into a PyTorch tensor, so that we can perform machine learning over the graph.\n",
        "\n",
        "Finally, we will finish the first learning algorithm on graphs: a node embedding model. For simplicity, our model here is simpler than DeepWalk / node2vec algorithms taught in the lecture. But it's still rewarding and challenging, as we will write it from scratch via PyTorch.\n",
        "\n",
        "Now let's get started! This Colab should take 1-2 hours to complete.\n",
        "\n",
        "**Note**: Make sure to **restart and run all** before submission, so that the intermediate variables / packages will carry over to the next cell"
      ]
    },
    {
      "cell_type": "markdown",
      "metadata": {
        "id": "Nwwq0nSdmsOL"
      },
      "source": [
        "# 1 Graph Basics\n",
        "To start, we will load a classic graph in network science, the [Karate Club Network](https://en.wikipedia.org/wiki/Zachary%27s_karate_club). We will explore multiple graph statistics for that graph."
      ]
    },
    {
      "cell_type": "markdown",
      "metadata": {
        "id": "FDkpByYYfSzb"
      },
      "source": [
        "## Setup\n",
        "We will heavily use NetworkX in this Colab."
      ]
    },
    {
      "cell_type": "code",
      "metadata": {
        "id": "VWPkJjPAfVNW"
      },
      "source": [
        "import networkx as nx"
      ],
      "execution_count": 1,
      "outputs": []
    },
    {
      "cell_type": "markdown",
      "metadata": {
        "id": "VqUnYT5qUZYh"
      },
      "source": [
        "## Zachary's karate club network\n",
        "\n",
        "The [Karate Club Network](https://en.wikipedia.org/wiki/Zachary%27s_karate_club) is a graph which describes a social network of 34 members of a karate club and documents links between members who interacted outside the club."
      ]
    },
    {
      "cell_type": "code",
      "metadata": {
        "id": "VIETqEfrfy5Y",
        "colab": {
          "base_uri": "https://localhost:8080/",
          "height": 186
        },
        "outputId": "99873d33-9a6c-4e12-b672-adece7434927"
      },
      "source": [
        "G = nx.karate_club_graph()\n",
        "\n",
        "# G is an undirected graph\n",
        "type(G)"
      ],
      "execution_count": 2,
      "outputs": [
        {
          "output_type": "execute_result",
          "data": {
            "text/plain": [
              "networkx.classes.graph.Graph"
            ],
            "text/html": [
              "<div style=\"max-width:800px; border: 1px solid var(--colab-border-color);\"><style>\n",
              "      pre.function-repr-contents {\n",
              "        overflow-x: auto;\n",
              "        padding: 8px 12px;\n",
              "        max-height: 500px;\n",
              "      }\n",
              "\n",
              "      pre.function-repr-contents.function-repr-contents-collapsed {\n",
              "        cursor: pointer;\n",
              "        max-height: 100px;\n",
              "      }\n",
              "    </style>\n",
              "    <pre style=\"white-space: initial; background:\n",
              "         var(--colab-secondary-surface-color); padding: 8px 12px;\n",
              "         border-bottom: 1px solid var(--colab-border-color);\"><b>networkx.classes.graph.Graph</b><br/>def __init__(incoming_graph_data=None, **attr)</pre><pre class=\"function-repr-contents function-repr-contents-collapsed\" style=\"\"><a class=\"filepath\" style=\"display:none\" href=\"#\">/usr/local/lib/python3.10/dist-packages/networkx/classes/graph.py</a>Base class for undirected graphs.\n",
              "\n",
              "A Graph stores nodes and edges with optional data, or attributes.\n",
              "\n",
              "Graphs hold undirected edges.  Self loops are allowed but multiple\n",
              "(parallel) edges are not.\n",
              "\n",
              "Nodes can be arbitrary (hashable) Python objects with optional\n",
              "key/value attributes, except that `None` is not allowed as a node.\n",
              "\n",
              "Edges are represented as links between nodes with optional\n",
              "key/value attributes.\n",
              "\n",
              "Parameters\n",
              "----------\n",
              "incoming_graph_data : input graph (optional, default: None)\n",
              "    Data to initialize graph. If None (default) an empty\n",
              "    graph is created.  The data can be any format that is supported\n",
              "    by the to_networkx_graph() function, currently including edge list,\n",
              "    dict of dicts, dict of lists, NetworkX graph, 2D NumPy array, SciPy\n",
              "    sparse matrix, or PyGraphviz graph.\n",
              "\n",
              "attr : keyword arguments, optional (default= no attributes)\n",
              "    Attributes to add to graph as key=value pairs.\n",
              "\n",
              "See Also\n",
              "--------\n",
              "DiGraph\n",
              "MultiGraph\n",
              "MultiDiGraph\n",
              "\n",
              "Examples\n",
              "--------\n",
              "Create an empty graph structure (a &quot;null graph&quot;) with no nodes and\n",
              "no edges.\n",
              "\n",
              "&gt;&gt;&gt; G = nx.Graph()\n",
              "\n",
              "G can be grown in several ways.\n",
              "\n",
              "**Nodes:**\n",
              "\n",
              "Add one node at a time:\n",
              "\n",
              "&gt;&gt;&gt; G.add_node(1)\n",
              "\n",
              "Add the nodes from any container (a list, dict, set or\n",
              "even the lines from a file or the nodes from another graph).\n",
              "\n",
              "&gt;&gt;&gt; G.add_nodes_from([2, 3])\n",
              "&gt;&gt;&gt; G.add_nodes_from(range(100, 110))\n",
              "&gt;&gt;&gt; H = nx.path_graph(10)\n",
              "&gt;&gt;&gt; G.add_nodes_from(H)\n",
              "\n",
              "In addition to strings and integers any hashable Python object\n",
              "(except None) can represent a node, e.g. a customized node object,\n",
              "or even another Graph.\n",
              "\n",
              "&gt;&gt;&gt; G.add_node(H)\n",
              "\n",
              "**Edges:**\n",
              "\n",
              "G can also be grown by adding edges.\n",
              "\n",
              "Add one edge,\n",
              "\n",
              "&gt;&gt;&gt; G.add_edge(1, 2)\n",
              "\n",
              "a list of edges,\n",
              "\n",
              "&gt;&gt;&gt; G.add_edges_from([(1, 2), (1, 3)])\n",
              "\n",
              "or a collection of edges,\n",
              "\n",
              "&gt;&gt;&gt; G.add_edges_from(H.edges)\n",
              "\n",
              "If some edges connect nodes not yet in the graph, the nodes\n",
              "are added automatically.  There are no errors when adding\n",
              "nodes or edges that already exist.\n",
              "\n",
              "**Attributes:**\n",
              "\n",
              "Each graph, node, and edge can hold key/value attribute pairs\n",
              "in an associated attribute dictionary (the keys must be hashable).\n",
              "By default these are empty, but can be added or changed using\n",
              "add_edge, add_node or direct manipulation of the attribute\n",
              "dictionaries named graph, node and edge respectively.\n",
              "\n",
              "&gt;&gt;&gt; G = nx.Graph(day=&quot;Friday&quot;)\n",
              "&gt;&gt;&gt; G.graph\n",
              "{&#x27;day&#x27;: &#x27;Friday&#x27;}\n",
              "\n",
              "Add node attributes using add_node(), add_nodes_from() or G.nodes\n",
              "\n",
              "&gt;&gt;&gt; G.add_node(1, time=&quot;5pm&quot;)\n",
              "&gt;&gt;&gt; G.add_nodes_from([3], time=&quot;2pm&quot;)\n",
              "&gt;&gt;&gt; G.nodes[1]\n",
              "{&#x27;time&#x27;: &#x27;5pm&#x27;}\n",
              "&gt;&gt;&gt; G.nodes[1][&quot;room&quot;] = 714  # node must exist already to use G.nodes\n",
              "&gt;&gt;&gt; del G.nodes[1][&quot;room&quot;]  # remove attribute\n",
              "&gt;&gt;&gt; list(G.nodes(data=True))\n",
              "[(1, {&#x27;time&#x27;: &#x27;5pm&#x27;}), (3, {&#x27;time&#x27;: &#x27;2pm&#x27;})]\n",
              "\n",
              "Add edge attributes using add_edge(), add_edges_from(), subscript\n",
              "notation, or G.edges.\n",
              "\n",
              "&gt;&gt;&gt; G.add_edge(1, 2, weight=4.7)\n",
              "&gt;&gt;&gt; G.add_edges_from([(3, 4), (4, 5)], color=&quot;red&quot;)\n",
              "&gt;&gt;&gt; G.add_edges_from([(1, 2, {&quot;color&quot;: &quot;blue&quot;}), (2, 3, {&quot;weight&quot;: 8})])\n",
              "&gt;&gt;&gt; G[1][2][&quot;weight&quot;] = 4.7\n",
              "&gt;&gt;&gt; G.edges[1, 2][&quot;weight&quot;] = 4\n",
              "\n",
              "Warning: we protect the graph data structure by making `G.edges` a\n",
              "read-only dict-like structure. However, you can assign to attributes\n",
              "in e.g. `G.edges[1, 2]`. Thus, use 2 sets of brackets to add/change\n",
              "data attributes: `G.edges[1, 2][&#x27;weight&#x27;] = 4`\n",
              "(For multigraphs: `MG.edges[u, v, key][name] = value`).\n",
              "\n",
              "**Shortcuts:**\n",
              "\n",
              "Many common graph features allow python syntax to speed reporting.\n",
              "\n",
              "&gt;&gt;&gt; 1 in G  # check if node in graph\n",
              "True\n",
              "&gt;&gt;&gt; [n for n in G if n &lt; 3]  # iterate through nodes\n",
              "[1, 2]\n",
              "&gt;&gt;&gt; len(G)  # number of nodes in graph\n",
              "5\n",
              "\n",
              "Often the best way to traverse all edges of a graph is via the neighbors.\n",
              "The neighbors are reported as an adjacency-dict `G.adj` or `G.adjacency()`\n",
              "\n",
              "&gt;&gt;&gt; for n, nbrsdict in G.adjacency():\n",
              "...     for nbr, eattr in nbrsdict.items():\n",
              "...         if &quot;weight&quot; in eattr:\n",
              "...             # Do something useful with the edges\n",
              "...             pass\n",
              "\n",
              "But the edges() method is often more convenient:\n",
              "\n",
              "&gt;&gt;&gt; for u, v, weight in G.edges.data(&quot;weight&quot;):\n",
              "...     if weight is not None:\n",
              "...         # Do something useful with the edges\n",
              "...         pass\n",
              "\n",
              "**Reporting:**\n",
              "\n",
              "Simple graph information is obtained using object-attributes and methods.\n",
              "Reporting typically provides views instead of containers to reduce memory\n",
              "usage. The views update as the graph is updated similarly to dict-views.\n",
              "The objects `nodes`, `edges` and `adj` provide access to data attributes\n",
              "via lookup (e.g. `nodes[n]`, `edges[u, v]`, `adj[u][v]`) and iteration\n",
              "(e.g. `nodes.items()`, `nodes.data(&#x27;color&#x27;)`,\n",
              "`nodes.data(&#x27;color&#x27;, default=&#x27;blue&#x27;)` and similarly for `edges`)\n",
              "Views exist for `nodes`, `edges`, `neighbors()`/`adj` and `degree`.\n",
              "\n",
              "For details on these and other miscellaneous methods, see below.\n",
              "\n",
              "**Subclasses (Advanced):**\n",
              "\n",
              "The Graph class uses a dict-of-dict-of-dict data structure.\n",
              "The outer dict (node_dict) holds adjacency information keyed by node.\n",
              "The next dict (adjlist_dict) represents the adjacency information and holds\n",
              "edge data keyed by neighbor.  The inner dict (edge_attr_dict) represents\n",
              "the edge data and holds edge attribute values keyed by attribute names.\n",
              "\n",
              "Each of these three dicts can be replaced in a subclass by a user defined\n",
              "dict-like object. In general, the dict-like features should be\n",
              "maintained but extra features can be added. To replace one of the\n",
              "dicts create a new graph class by changing the class(!) variable\n",
              "holding the factory for that dict-like structure.\n",
              "\n",
              "node_dict_factory : function, (default: dict)\n",
              "    Factory function to be used to create the dict containing node\n",
              "    attributes, keyed by node id.\n",
              "    It should require no arguments and return a dict-like object\n",
              "\n",
              "node_attr_dict_factory: function, (default: dict)\n",
              "    Factory function to be used to create the node attribute\n",
              "    dict which holds attribute values keyed by attribute name.\n",
              "    It should require no arguments and return a dict-like object\n",
              "\n",
              "adjlist_outer_dict_factory : function, (default: dict)\n",
              "    Factory function to be used to create the outer-most dict\n",
              "    in the data structure that holds adjacency info keyed by node.\n",
              "    It should require no arguments and return a dict-like object.\n",
              "\n",
              "adjlist_inner_dict_factory : function, (default: dict)\n",
              "    Factory function to be used to create the adjacency list\n",
              "    dict which holds edge data keyed by neighbor.\n",
              "    It should require no arguments and return a dict-like object\n",
              "\n",
              "edge_attr_dict_factory : function, (default: dict)\n",
              "    Factory function to be used to create the edge attribute\n",
              "    dict which holds attribute values keyed by attribute name.\n",
              "    It should require no arguments and return a dict-like object.\n",
              "\n",
              "graph_attr_dict_factory : function, (default: dict)\n",
              "    Factory function to be used to create the graph attribute\n",
              "    dict which holds attribute values keyed by attribute name.\n",
              "    It should require no arguments and return a dict-like object.\n",
              "\n",
              "Typically, if your extension doesn&#x27;t impact the data structure all\n",
              "methods will inherit without issue except: `to_directed/to_undirected`.\n",
              "By default these methods create a DiGraph/Graph class and you probably\n",
              "want them to create your extension of a DiGraph/Graph. To facilitate\n",
              "this we define two class variables that you can set in your subclass.\n",
              "\n",
              "to_directed_class : callable, (default: DiGraph or MultiDiGraph)\n",
              "    Class to create a new graph structure in the `to_directed` method.\n",
              "    If `None`, a NetworkX class (DiGraph or MultiDiGraph) is used.\n",
              "\n",
              "to_undirected_class : callable, (default: Graph or MultiGraph)\n",
              "    Class to create a new graph structure in the `to_undirected` method.\n",
              "    If `None`, a NetworkX class (Graph or MultiGraph) is used.\n",
              "\n",
              "**Subclassing Example**\n",
              "\n",
              "Create a low memory graph class that effectively disallows edge\n",
              "attributes by using a single attribute dict for all edges.\n",
              "This reduces the memory used, but you lose edge attributes.\n",
              "\n",
              "&gt;&gt;&gt; class ThinGraph(nx.Graph):\n",
              "...     all_edge_dict = {&quot;weight&quot;: 1}\n",
              "...\n",
              "...     def single_edge_dict(self):\n",
              "...         return self.all_edge_dict\n",
              "...\n",
              "...     edge_attr_dict_factory = single_edge_dict\n",
              "&gt;&gt;&gt; G = ThinGraph()\n",
              "&gt;&gt;&gt; G.add_edge(2, 1)\n",
              "&gt;&gt;&gt; G[2][1]\n",
              "{&#x27;weight&#x27;: 1}\n",
              "&gt;&gt;&gt; G.add_edge(2, 2)\n",
              "&gt;&gt;&gt; G[2][1] is G[2][2]\n",
              "True</pre>\n",
              "      <script>\n",
              "      if (google.colab.kernel.accessAllowed && google.colab.files && google.colab.files.view) {\n",
              "        for (const element of document.querySelectorAll('.filepath')) {\n",
              "          element.style.display = 'block'\n",
              "          element.onclick = (event) => {\n",
              "            event.preventDefault();\n",
              "            event.stopPropagation();\n",
              "            google.colab.files.view(element.textContent, 71);\n",
              "          };\n",
              "        }\n",
              "      }\n",
              "      for (const element of document.querySelectorAll('.function-repr-contents')) {\n",
              "        element.onclick = (event) => {\n",
              "          event.preventDefault();\n",
              "          event.stopPropagation();\n",
              "          element.classList.toggle('function-repr-contents-collapsed');\n",
              "        };\n",
              "      }\n",
              "      </script>\n",
              "      </div>"
            ]
          },
          "metadata": {},
          "execution_count": 2
        }
      ]
    },
    {
      "cell_type": "code",
      "metadata": {
        "id": "hDvf3nm-ors4",
        "colab": {
          "base_uri": "https://localhost:8080/",
          "height": 516
        },
        "outputId": "bbdb06f4-1b12-4634-f388-f4e59c3d7c73"
      },
      "source": [
        "# Visualize the graph\n",
        "nx.draw(G, with_labels = True)"
      ],
      "execution_count": 3,
      "outputs": [
        {
          "output_type": "display_data",
          "data": {
            "text/plain": [
              "<Figure size 640x480 with 1 Axes>"
            ],
            "image/png": "[encoded data removed]"
          },
          "metadata": {}
        }
      ]
    },
    {
      "cell_type": "markdown",
      "metadata": {
        "id": "FX25Y1CrYmgN"
      },
      "source": [
        "## Question 1: What is the average degree of the karate club network? (5 Points)"
      ]
    },
    {
      "cell_type": "code",
      "metadata": {
        "id": "AUhES1VYo3tB",
        "colab": {
          "base_uri": "https://localhost:8080/"
        },
        "outputId": "8aa4c11c-e538-4cbc-be6d-90a52b11672d"
      },
      "source": [
        "from logging import info\n",
        "def average_degree(num_edges, num_nodes):\n",
        "  # TODO: Implement this function that takes number of edges\n",
        "  # and number of nodes, and returns the average node degree of\n",
        "  # the graph. Round the result to nearest integer (for example\n",
        "  # 3.3 will be rounded to 3 and 3.7 will be rounded to 4)\n",
        "\n",
        "  # avg_degree = 0\n",
        "\n",
        "  ############# Your code here ############\n",
        "\n",
        "  return round((num_edges << 1) / num_nodes)\n",
        "\n",
        "  #########################################\n",
        "\n",
        "  # return avg_degree\n",
        "\n",
        "num_edges = G.number_of_edges()\n",
        "num_nodes = G.number_of_nodes()\n",
        "avg_degree = average_degree(num_edges, num_nodes)\n",
        "print(\"Average degree of karate club network is {}\".format(avg_degree))"
      ],
      "execution_count": 4,
      "outputs": [
        {
          "output_type": "stream",
          "name": "stdout",
          "text": [
            "Average degree of karate club network is 5\n"
          ]
        }
      ]
    },
    {
      "cell_type": "markdown",
      "metadata": {
        "id": "Fk02fD4vYmZI"
      },
      "source": [
        "## Question 2: What is the average clustering coefficient of the karate club network? (5 Points)"
      ]
    },
    {
      "cell_type": "code",
      "metadata": {
        "id": "k15XKEto1aYJ",
        "colab": {
          "base_uri": "https://localhost:8080/"
        },
        "outputId": "ad41802a-a8c5-4ef8-d65e-04049a24b02c"
      },
      "source": [
        "def average_clustering_coefficient(G):\n",
        "  # TODO: Implement this function that takes a nx.Graph\n",
        "  # and returns the average clustering coefficient. Round\n",
        "  # the result to 2 decimal places (for example 3.333 will\n",
        "  # be rounded to 3.33 and 3.7571 will be rounded to 3.76)\n",
        "\n",
        "  # avg_cluster_coef = 0\n",
        "\n",
        "  ############# Your code here ############\n",
        "  ## Note:\n",
        "  ## 1: Please use the appropriate NetworkX clustering function\n",
        "\n",
        "  return round(nx.average_clustering(G), 2)\n",
        "\n",
        "  #########################################\n",
        "\n",
        "  # return avg_cluster_coef\n",
        "\n",
        "avg_cluster_coef = average_clustering_coefficient(G)\n",
        "print(\"Average clustering coefficient of karate club network is {}\".format(avg_cluster_coef))"
      ],
      "execution_count": 5,
      "outputs": [
        {
          "output_type": "stream",
          "name": "stdout",
          "text": [
            "Average clustering coefficient of karate club network is 0.57\n"
          ]
        }
      ]
    },
    {
      "cell_type": "markdown",
      "metadata": {
        "id": "zghQ-AhXYmP4"
      },
      "source": [
        "## Question 3: What is the PageRank value for node 0 (node with id 0) after one PageRank iteration? (5 Points)\n",
        "\n",
        "Page Rank measures importance of nodes in a graph using the link structure of the web. A “vote” from an important page is worth more. Specifically, if  a page $i$ with importance $r_i$ has $d_i$ out-links, then each link gets $\\frac{r_i}{d_i}$ votes. Thus, the importance of a Page $j$, represented as $r_j$ is the sum of the votes on its in links.\n",
        "$$r_j = \\sum_{i \\rightarrow j} \\frac{r_i}{d_i}$$, where $d_i$ is the out degree of node $i$.\n",
        "\n",
        "The PageRank algorithm (used by Google) outputs a probability distribution which represent the likelihood of a random surfer clicking on links will arrive at any particular page. At each time step, the random surfer has two options\n",
        "- With prob. $\\beta$, follow a link at random\n",
        "- With prob. $1- \\beta$, jump to a random page\n",
        "\n",
        "Thus, the importance of a particular page is calculated with the following PageRank equation:\n",
        " $$r_j = \\sum_{i \\rightarrow j} \\beta \\frac{r_i}{d_i} + (1 - \\beta) \\frac{1}{N}$$\n",
        "\n",
        "Please complete the code block by implementing the above PageRank equation for node 0.\n",
        "\n",
        "Note - You can refer to more information from the slides here - http://snap.stanford.edu/class/cs224w-2020/slides/04-pagerank.pdf\n",
        "\n",
        "\n"
      ]
    },
    {
      "cell_type": "code",
      "metadata": {
        "id": "BOGdWjNc6O7x",
        "colab": {
          "base_uri": "https://localhost:8080/"
        },
        "outputId": "0439d21d-9bfe-41d4-84f0-80867e246556"
      },
      "source": [
        "def one_iter_pagerank(G, beta, r0, node_id):\n",
        "  # TODO: Implement this function that takes a nx.Graph, beta, r0 and node id.\n",
        "  # The return value r1 is one interation PageRank value for the input node.\n",
        "  # Please round r1 to 2 decimal places.\n",
        "\n",
        "  r1 = 0\n",
        "\n",
        "  ############# Your code here ############\n",
        "  ## Note:\n",
        "  ## 1: You should not use nx.pagerank\n",
        "\n",
        "  for v in G.neighbors(node_id):\n",
        "    r1 += beta * (r0 / G.degree[v])\n",
        "  r1 += (1 - beta) / G.number_of_nodes()\n",
        "\n",
        "  r1 = round(r1, 2)\n",
        "\n",
        "  #########################################\n",
        "\n",
        "  return r1\n",
        "\n",
        "beta = 0.8\n",
        "r0 = 1 / G.number_of_nodes()\n",
        "node = 0\n",
        "r1 = one_iter_pagerank(G, beta, r0, node)\n",
        "print(\"The PageRank value for node 0 after one iteration is {}\".format(r1))"
      ],
      "execution_count": 6,
      "outputs": [
        {
          "output_type": "stream",
          "name": "stdout",
          "text": [
            "The PageRank value for node 0 after one iteration is 0.13\n"
          ]
        }
      ]
    },
    {
      "cell_type": "markdown",
      "metadata": {
        "id": "icTcOULeYmIu"
      },
      "source": [
        "## Question 4: What is the (raw) closeness centrality for the karate club network node 5? (5 Points)\n",
        "\n",
        "The equation for closeness centrality is $c(v) = \\frac{1}{\\sum_{u \\neq v}\\text{shortest path length between } u \\text{ and } v}$"
      ]
    },
    {
      "cell_type": "code",
      "metadata": {
        "id": "XbCsq_tl-3ok",
        "colab": {
          "base_uri": "https://localhost:8080/"
        },
        "outputId": "253236b9-000d-468b-d5d3-da85dbd943e9"
      },
      "source": [
        "def closeness_centrality(G, node=5):\n",
        "  # TODO: Implement the function that calculates closeness centrality\n",
        "  # for a node in karate club network. G is the input karate club\n",
        "  # network and node is the node id in the graph. Please round the\n",
        "  # closeness centrality result to 2 decimal places.\n",
        "\n",
        "  closeness = 0\n",
        "\n",
        "  ## Note:\n",
        "  ## 1: You can use networkx closeness centrality function.\n",
        "  ## 2: Notice that networkx closeness centrality returns the normalized\n",
        "  ## closeness directly, which is different from the raw (unnormalized)\n",
        "  ## one that we learned in the lecture.\n",
        "\n",
        "  ############# Your code here ############\n",
        "\n",
        "  normalized_closeness = nx.closeness_centrality(G, u = node)\n",
        "  # print(nx.node_connected_component(G, n = node))\n",
        "  closeness =  normalized_closeness / connected_nodes if (connected_nodes := len(nx.node_connected_component(G, n = node)) - 1) > 0 else 0\n",
        "  closeness = round(closeness, 2)\n",
        "\n",
        "  #########################################\n",
        "\n",
        "  return closeness\n",
        "\n",
        "node = 5\n",
        "closeness = closeness_centrality(G, node=node)\n",
        "print(\"The node 5 has closeness centrality {}\".format(closeness))"
      ],
      "execution_count": 7,
      "outputs": [
        {
          "output_type": "stream",
          "name": "stdout",
          "text": [
            "The node 5 has closeness centrality 0.01\n"
          ]
        }
      ]
    },
    {
      "cell_type": "markdown",
      "source": [
        "NOTE:\n",
        "\n",
        "\"The closeness centrality is normalized to (n-1)/(|G|-1) where n is the number of nodes in the connected part of graph containing the node. If the graph is not completely connected, this algorithm computes the closeness centrality for each connected part separately scaled by that parts size.\"\n",
        "\n",
        "https://networkx.org/documentation/stable/reference/algorithms/generated/networkx.algorithms.centrality.closeness_centrality.html"
      ],
      "metadata": {
        "id": "zkVeOi4IYo-e"
      }
    },
    {
      "cell_type": "markdown",
      "metadata": {
        "id": "-MxvowibYl4x"
      },
      "source": [
        "# 2 Graph to Tensor\n",
        "We will then work together to transform the graph $G$ into a PyTorch tensor, so that we can perform machine learning over the graph."
      ]
    },
    {
      "cell_type": "markdown",
      "metadata": {
        "id": "eDA8PosrA-9V"
      },
      "source": [
        "## Setup\n",
        "Check if PyTorch is properly installed"
      ]
    },
    {
      "cell_type": "code",
      "metadata": {
        "id": "ntuPVat_BAf1",
        "colab": {
          "base_uri": "https://localhost:8080/"
        },
        "outputId": "66067949-ce6e-4571-bac1-44eab6385649"
      },
      "source": [
        "import torch\n",
        "print(torch.__version__)"
      ],
      "execution_count": 8,
      "outputs": [
        {
          "output_type": "stream",
          "name": "stdout",
          "text": [
            "2.5.1+cu121\n"
          ]
        }
      ]
    },
    {
      "cell_type": "markdown",
      "metadata": {
        "id": "fko_2wSKYlun"
      },
      "source": [
        "## PyTorch tensor basics\n",
        "\n",
        "We can generate PyTorch tensor with all zeros, ones or random values."
      ]
    },
    {
      "cell_type": "code",
      "metadata": {
        "id": "W2ySw3m-A9qF",
        "colab": {
          "base_uri": "https://localhost:8080/"
        },
        "outputId": "ba22880e-7564-4e1c-fe9a-98ec15febcdd"
      },
      "source": [
        "# Generate 3 x 4 tensor with all ones\n",
        "ones = torch.ones(3, 4)\n",
        "print(ones)\n",
        "\n",
        "# Generate 3 x 4 tensor with all zeros\n",
        "zeros = torch.zeros(3, 4)\n",
        "print(zeros)\n",
        "\n",
        "# Generate 3 x 4 tensor with random values on the interval [0, 1)\n",
        "random_tensor = torch.rand(3, 4)\n",
        "print(random_tensor)\n",
        "\n",
        "# Get the shape of the tensor\n",
        "print(ones.shape)"
      ],
      "execution_count": 9,
      "outputs": [
        {
          "output_type": "stream",
          "name": "stdout",
          "text": [
            "tensor([[1., 1., 1., 1.],\n",
            "        [1., 1., 1., 1.],\n",
            "        [1., 1., 1., 1.]])\n",
            "tensor([[0., 0., 0., 0.],\n",
            "        [0., 0., 0., 0.],\n",
            "        [0., 0., 0., 0.]])\n",
            "tensor([[0.7789, 0.6191, 0.4369, 0.6205],\n",
            "        [0.5414, 0.5558, 0.8507, 0.7245],\n",
            "        [0.6118, 0.9800, 0.4072, 0.0261]])\n",
            "torch.Size([3, 4])\n"
          ]
        }
      ]
    },
    {
      "cell_type": "markdown",
      "metadata": {
        "id": "x8mp66eHBxWC"
      },
      "source": [
        "PyTorch tensor contains elements for a single data type, the `dtype`."
      ]
    },
    {
      "cell_type": "code",
      "metadata": {
        "id": "rQiOvKJJBwq4",
        "colab": {
          "base_uri": "https://localhost:8080/"
        },
        "outputId": "5f300a3d-7d00-4c8e-d02d-5d08db5a9e09"
      },
      "source": [
        "# Create a 3 x 4 tensor with all 32-bit floating point zeros\n",
        "zeros = torch.zeros(3, 4, dtype=torch.float32)\n",
        "print(zeros.dtype)\n",
        "\n",
        "# Change the tensor dtype to 64-bit integer\n",
        "zeros = zeros.type(torch.long)\n",
        "print(zeros.dtype)"
      ],
      "execution_count": 10,
      "outputs": [
        {
          "output_type": "stream",
          "name": "stdout",
          "text": [
            "torch.float32\n",
            "torch.int64\n"
          ]
        }
      ]
    },
    {
      "cell_type": "markdown",
      "metadata": {
        "id": "I9EfegIRDkk2"
      },
      "source": [
        "## Question 5: Get the edge list of the karate club network and transform it into `torch.LongTensor`. What is the `torch.sum` value of `pos_edge_index` tensor? (10 Points)"
      ]
    },
    {
      "cell_type": "code",
      "metadata": {
        "id": "kEtVxMFID3ZT",
        "colab": {
          "base_uri": "https://localhost:8080/"
        },
        "outputId": "abbcd0f3-f9a0-41ba-a47a-7ee598d94fd0"
      },
      "source": [
        "def graph_to_edge_list(G):\n",
        "  # TODO: Implement the function that returns the edge list of\n",
        "  # an nx.Graph. The returned edge_list should be a list of tuples\n",
        "  # where each tuple is a tuple representing an edge connected\n",
        "  # by two nodes.\n",
        "\n",
        "  # edge_list = []\n",
        "\n",
        "  ############# Your code here ############\n",
        "\n",
        "  return list(G.edges())\n",
        "\n",
        "  #########################################\n",
        "\n",
        "  # return edge_list\n",
        "\n",
        "def edge_list_to_tensor(edge_list):\n",
        "  # TODO: Implement the function that transforms the edge_list to\n",
        "  # tensor. The input edge_list is a list of tuples and the resulting\n",
        "  # tensor should have the shape [2, len(edge_list)].\n",
        "\n",
        "  edge_index = torch.tensor([])\n",
        "\n",
        "  ############# Your code here ############\n",
        "\n",
        "  print(edge_list)\n",
        "  edge_index = torch.LongTensor(edge_list).transpose(0, 1)\n",
        "  print(edge_index)\n",
        "\n",
        "  #########################################\n",
        "\n",
        "  return edge_index\n",
        "\n",
        "pos_edge_list = graph_to_edge_list(G)\n",
        "pos_edge_index = edge_list_to_tensor(pos_edge_list)\n",
        "print(\"The pos_edge_index tensor has shape {}\".format(pos_edge_index.shape))\n",
        "print(\"The pos_edge_index tensor has sum value {}\".format(torch.sum(pos_edge_index)))"
      ],
      "execution_count": 11,
      "outputs": [
        {
          "output_type": "stream",
          "name": "stdout",
          "text": [
            "[(0, 1), (0, 2), (0, 3), (0, 4), (0, 5), (0, 6), (0, 7), (0, 8), (0, 10), (0, 11), (0, 12), (0, 13), (0, 17), (0, 19), (0, 21), (0, 31), (1, 2), (1, 3), (1, 7), (1, 13), (1, 17), (1, 19), (1, 21), (1, 30), (2, 3), (2, 7), (2, 8), (2, 9), (2, 13), (2, 27), (2, 28), (2, 32), (3, 7), (3, 12), (3, 13), (4, 6), (4, 10), (5, 6), (5, 10), (5, 16), (6, 16), (8, 30), (8, 32), (8, 33), (9, 33), (13, 33), (14, 32), (14, 33), (15, 32), (15, 33), (18, 32), (18, 33), (19, 33), (20, 32), (20, 33), (22, 32), (22, 33), (23, 25), (23, 27), (23, 29), (23, 32), (23, 33), (24, 25), (24, 27), (24, 31), (25, 31), (26, 29), (26, 33), (27, 33), (28, 31), (28, 33), (29, 32), (29, 33), (30, 32), (30, 33), (31, 32), (31, 33), (32, 33)]\n",
            "tensor([[ 0,  0,  0,  0,  0,  0,  0,  0,  0,  0,  0,  0,  0,  0,  0,  0,  1,  1,\n",
            "          1,  1,  1,  1,  1,  1,  2,  2,  2,  2,  2,  2,  2,  2,  3,  3,  3,  4,\n",
            "          4,  5,  5,  5,  6,  8,  8,  8,  9, 13, 14, 14, 15, 15, 18, 18, 19, 20,\n",
            "         20, 22, 22, 23, 23, 23, 23, 23, 24, 24, 24, 25, 26, 26, 27, 28, 28, 29,\n",
            "         29, 30, 30, 31, 31, 32],\n",
            "        [ 1,  2,  3,  4,  5,  6,  7,  8, 10, 11, 12, 13, 17, 19, 21, 31,  2,  3,\n",
            "          7, 13, 17, 19, 21, 30,  3,  7,  8,  9, 13, 27, 28, 32,  7, 12, 13,  6,\n",
            "         10,  6, 10, 16, 16, 30, 32, 33, 33, 33, 32, 33, 32, 33, 32, 33, 33, 32,\n",
            "         33, 32, 33, 25, 27, 29, 32, 33, 25, 27, 31, 31, 29, 33, 33, 31, 33, 32,\n",
            "         33, 32, 33, 32, 33, 33]])\n",
            "The pos_edge_index tensor has shape torch.Size([2, 78])\n",
            "The pos_edge_index tensor has sum value 2535\n"
          ]
        }
      ]
    },
    {
      "cell_type": "markdown",
      "metadata": {
        "id": "UBL-ZmdHWqIu"
      },
      "source": [
        "## Question 6: Please implement following function that samples negative edges. Then answer which edges (edge_1 to edge_5) are the negative edges in the karate club network? (10 Points)\n",
        "\n",
        "\"Negative\" edges refer to the edges/links that do not exist in the graph. The term \"negative\" is borrowed from \"negative sampling\" in link prediction. It has nothing to do with the edge weights.\n",
        "\n",
        "For example, given an edge (src, dst), you should check that neither (src, dst) nor (dst, src) are edges in the Graph. If these hold true, then it is a negative edge."
      ]
    },
    {
      "cell_type": "code",
      "metadata": {
        "id": "9N8VT1f8-IJ8",
        "colab": {
          "base_uri": "https://localhost:8080/"
        },
        "outputId": "f8f2efc4-94f7-4dae-a0b4-fdc2975ac040"
      },
      "source": [
        "import random\n",
        "\n",
        "def sample_negative_edges(G, num_neg_samples):\n",
        "  # TODO: Implement the function that returns a list of negative edges.\n",
        "  # The number of sampled negative edges is num_neg_samples. You do not\n",
        "  # need to consider the corner case when the number of possible negative edges\n",
        "  # is less than num_neg_samples. It should be ok as long as your implementation\n",
        "  # works on the karate club network. In this implementation, self loops should\n",
        "  # not be considered as either a positive or negative edge. Also, notice that\n",
        "  # the karate club network is an undirected graph, if (0, 1) is a positive\n",
        "  # edge, do you think (1, 0) can be a negative one?\n",
        "\n",
        "  neg_edge_list = []\n",
        "\n",
        "  ############# Your code here ############\n",
        "\n",
        "  edges = set(G.edges())\n",
        "  nodes = list(set(G.nodes()))\n",
        "\n",
        "  while len(neg_edge_list) < num_neg_samples:\n",
        "    u, v = random.sample(nodes, 2)\n",
        "    if (u, v) not in edges and (v, u) not in edges:\n",
        "      neg_edge_list.append((u, v))\n",
        "\n",
        "  #########################################\n",
        "\n",
        "  return neg_edge_list\n",
        "\n",
        "# Sample 78 negative edges\n",
        "neg_edge_list = sample_negative_edges(G, len(pos_edge_list))\n",
        "\n",
        "# Transform the negative edge list to tensor\n",
        "neg_edge_index = edge_list_to_tensor(neg_edge_list)\n",
        "print(\"The neg_edge_index tensor has shape {}\".format(neg_edge_index.shape))\n",
        "\n",
        "# Which of following edges can be negative ones?\n",
        "edge_1 = (7, 1)\n",
        "edge_2 = (1, 33)\n",
        "edge_3 = (33, 22)\n",
        "edge_4 = (0, 4)\n",
        "edge_5 = (4, 2)\n",
        "\n",
        "def can_be_negative(G, edge):\n",
        "  # TODO: Implement the function that tests if an edge is a negative\n",
        "  # edge in graph G.\n",
        "\n",
        "  # is_negative = False\n",
        "\n",
        "  ############# Your code here ############\n",
        "\n",
        "  edges = G.edges()\n",
        "  return (edge not in edges) and (edge[::-1] not in edges)\n",
        "\n",
        "  #########################################\n",
        "\n",
        "  # return is_negative\n",
        "\n",
        "print(f\"Edge 1 can be a negative edge: {can_be_negative(G, edge_1)}\")\n",
        "print(f\"Edge 2 can be a negative edge: {can_be_negative(G, edge_2)}\")\n",
        "print(f\"Edge 3 can be a negative edge: {can_be_negative(G, edge_3)}\")\n",
        "print(f\"Edge 4 can be a negative edge: {can_be_negative(G, edge_4)}\")\n",
        "print(f\"Edge 5 can be a negative edge: {can_be_negative(G, edge_5)}\")"
      ],
      "execution_count": 24,
      "outputs": [
        {
          "output_type": "stream",
          "name": "stdout",
          "text": [
            "[(31, 6), (20, 4), (28, 7), (14, 23), (28, 20), (18, 29), (21, 30), (21, 10), (31, 20), (18, 20), (29, 20), (7, 18), (9, 4), (22, 5), (12, 15), (25, 32), (0, 25), (14, 4), (28, 7), (21, 12), (6, 26), (3, 16), (2, 25), (24, 0), (17, 21), (20, 4), (18, 20), (11, 4), (15, 3), (0, 18), (22, 11), (16, 23), (8, 19), (27, 15), (18, 10), (25, 4), (8, 10), (24, 2), (7, 9), (3, 26), (17, 25), (4, 12), (29, 22), (25, 3), (26, 11), (21, 32), (22, 13), (7, 13), (27, 8), (26, 15), (16, 25), (18, 23), (20, 31), (18, 3), (8, 10), (21, 30), (25, 22), (4, 2), (11, 26), (22, 18), (27, 6), (22, 2), (26, 31), (21, 2), (22, 15), (24, 7), (1, 26), (3, 8), (21, 31), (18, 27), (30, 7), (25, 1), (22, 26), (6, 8), (28, 29), (22, 12), (1, 16), (27, 3)]\n",
            "tensor([[31, 20, 28, 14, 28, 18, 21, 21, 31, 18, 29,  7,  9, 22, 12, 25,  0, 14,\n",
            "         28, 21,  6,  3,  2, 24, 17, 20, 18, 11, 15,  0, 22, 16,  8, 27, 18, 25,\n",
            "          8, 24,  7,  3, 17,  4, 29, 25, 26, 21, 22,  7, 27, 26, 16, 18, 20, 18,\n",
            "          8, 21, 25,  4, 11, 22, 27, 22, 26, 21, 22, 24,  1,  3, 21, 18, 30, 25,\n",
            "         22,  6, 28, 22,  1, 27],\n",
            "        [ 6,  4,  7, 23, 20, 29, 30, 10, 20, 20, 20, 18,  4,  5, 15, 32, 25,  4,\n",
            "          7, 12, 26, 16, 25,  0, 21,  4, 20,  4,  3, 18, 11, 23, 19, 15, 10,  4,\n",
            "         10,  2,  9, 26, 25, 12, 22,  3, 11, 32, 13, 13,  8, 15, 25, 23, 31,  3,\n",
            "         10, 30, 22,  2, 26, 18,  6,  2, 31,  2, 15,  7, 26,  8, 31, 27,  7,  1,\n",
            "         26,  8, 29, 12, 16,  3]])\n",
            "The neg_edge_index tensor has shape torch.Size([2, 78])\n",
            "Edge 1 can be a negative edge: False\n",
            "Edge 2 can be a negative edge: True\n",
            "Edge 3 can be a negative edge: False\n",
            "Edge 4 can be a negative edge: False\n",
            "Edge 5 can be a negative edge: True\n"
          ]
        }
      ]
    },
    {
      "cell_type": "markdown",
      "metadata": {
        "id": "Wk9Q-a-9qGsw"
      },
      "source": [
        "# 3 Node Emebedding Learning\n",
        "\n",
        "Finally, we will finish the first learning algorithm on graphs: a node embedding model.\n"
      ]
    },
    {
      "cell_type": "markdown",
      "metadata": {
        "id": "NDBxRQcZ_dUH"
      },
      "source": [
        "## Setup"
      ]
    },
    {
      "cell_type": "code",
      "metadata": {
        "id": "Lnqn9H6s_ehX",
        "colab": {
          "base_uri": "https://localhost:8080/"
        },
        "outputId": "d76eed8a-99ea-45a9-bf6c-773839cb1b11"
      },
      "source": [
        "import torch\n",
        "import torch.nn as nn\n",
        "import matplotlib.pyplot as plt\n",
        "from sklearn.decomposition import PCA\n",
        "\n",
        "print(torch.__version__)"
      ],
      "execution_count": 25,
      "outputs": [
        {
          "output_type": "stream",
          "name": "stdout",
          "text": [
            "2.5.1+cu121\n"
          ]
        }
      ]
    },
    {
      "cell_type": "markdown",
      "metadata": {
        "id": "6gomAf8vxq0R"
      },
      "source": [
        "To write our own node embedding learning methods, we'll heavily use the [`nn.Embedding`](https://pytorch.org/docs/stable/generated/torch.nn.Embedding.html) module in PyTorch. Let's see how to use `nn.Embedding`:"
      ]
    },
    {
      "cell_type": "code",
      "metadata": {
        "id": "aRiWGuLAx5yx",
        "colab": {
          "base_uri": "https://localhost:8080/"
        },
        "outputId": "c356a84c-d624-486c-ce20-b918836aa7b0"
      },
      "source": [
        "# Initialize an embedding layer\n",
        "# Suppose we want to have embedding for 4 items (e.g., nodes)\n",
        "# Each item is represented with 8 dimensional vector\n",
        "\n",
        "emb_sample = nn.Embedding(num_embeddings=4, embedding_dim=8)\n",
        "print('Sample embedding layer: {}'.format(emb_sample))"
      ],
      "execution_count": 108,
      "outputs": [
        {
          "output_type": "stream",
          "name": "stdout",
          "text": [
            "Sample embedding layer: Embedding(4, 8)\n"
          ]
        }
      ]
    },
    {
      "cell_type": "markdown",
      "metadata": {
        "id": "bS9qQfeujEVh"
      },
      "source": [
        "We can select items from the embedding matrix, by using Tensor indices"
      ]
    },
    {
      "cell_type": "code",
      "metadata": {
        "id": "9AGIfP4QEDr8",
        "colab": {
          "base_uri": "https://localhost:8080/"
        },
        "outputId": "c11a9648-d38f-430e-e3b4-3d83ee5e7832"
      },
      "source": [
        "# Select an embedding in emb_sample\n",
        "id = torch.LongTensor([1])\n",
        "print(emb_sample(id))\n",
        "\n",
        "# Select multiple embeddings\n",
        "ids = torch.LongTensor([1, 3])\n",
        "print(emb_sample(ids))\n",
        "\n",
        "# Get the shape of the embedding weight matrix\n",
        "shape = emb_sample.weight.data.shape\n",
        "print(shape)\n",
        "\n",
        "# Overwrite the weight to tensor with all ones\n",
        "emb_sample.weight.data = torch.ones(shape)\n",
        "\n",
        "# Let's check if the emb is indeed initilized\n",
        "ids = torch.LongTensor([0, 3])\n",
        "print(emb_sample(ids))"
      ],
      "execution_count": 109,
      "outputs": [
        {
          "output_type": "stream",
          "name": "stdout",
          "text": [
            "tensor([[-0.5956,  1.1019,  0.5539, -0.9509, -0.5039,  1.7359,  1.1365,  0.7353]],\n",
            "       grad_fn=<EmbeddingBackward0>)\n",
            "tensor([[-0.5956,  1.1019,  0.5539, -0.9509, -0.5039,  1.7359,  1.1365,  0.7353],\n",
            "        [-0.4999,  0.0399, -0.7815,  0.3195,  0.8211,  0.8643,  0.4917,  0.4454]],\n",
            "       grad_fn=<EmbeddingBackward0>)\n",
            "torch.Size([4, 8])\n",
            "tensor([[1., 1., 1., 1., 1., 1., 1., 1.],\n",
            "        [1., 1., 1., 1., 1., 1., 1., 1.]], grad_fn=<EmbeddingBackward0>)\n"
          ]
        }
      ]
    },
    {
      "cell_type": "markdown",
      "metadata": {
        "id": "8MjBuDKaKIsM"
      },
      "source": [
        "Now, it's your time to create node embedding matrix for the graph we have!\n",
        "- We want to have **16 dimensional** vector for each node in the karate club network.\n",
        "- We want to initalize the matrix under **uniform distribution**, in the range of $[0, 1)$. We suggest you using [`torch.rand`](https://pytorch.org/docs/stable/generated/torch.rand.html)."
      ]
    },
    {
      "cell_type": "code",
      "metadata": {
        "id": "hMszSwRPKGn1",
        "colab": {
          "base_uri": "https://localhost:8080/"
        },
        "outputId": "c1a7c3f0-3d55-4250-a3c6-13d70d32ff3c"
      },
      "source": [
        "# Please do not change / reset the random seed\n",
        "torch.manual_seed(1)\n",
        "\n",
        "def create_node_emb(num_node=34, embedding_dim=16):\n",
        "  # TODO: Implement this function that will create the node embedding matrix.\n",
        "  # A torch.nn.Embedding layer will be returned. You do not need to change\n",
        "  # the values of num_node and embedding_dim. The weight matrix of returned\n",
        "  # layer should be initialized under uniform distribution.\n",
        "\n",
        "  # emb = None\n",
        "\n",
        "  ############# Your code here ############\n",
        "\n",
        "  return torch.nn.Embedding(\n",
        "      num_embeddings = num_node,\n",
        "      embedding_dim = embedding_dim,\n",
        "      _weight = torch.rand(num_node, embedding_dim)\n",
        "    )\n",
        "\n",
        "  #########################################\n",
        "\n",
        "  # return emb\n",
        "\n",
        "emb = create_node_emb()\n",
        "ids = torch.LongTensor([0, 3])\n",
        "\n",
        "# Print the embedding layer\n",
        "print(\"Embedding: {}\".format(emb))\n",
        "\n",
        "# An example that gets the embeddings for node 0 and 3\n",
        "print(emb(ids))"
      ],
      "execution_count": 110,
      "outputs": [
        {
          "output_type": "stream",
          "name": "stdout",
          "text": [
            "Embedding: Embedding(34, 16)\n",
            "tensor([[0.7576, 0.2793, 0.4031, 0.7347, 0.0293, 0.7999, 0.3971, 0.7544, 0.5695,\n",
            "         0.4388, 0.6387, 0.5247, 0.6826, 0.3051, 0.4635, 0.4550],\n",
            "        [0.3556, 0.4452, 0.0193, 0.2616, 0.7713, 0.3785, 0.9980, 0.9008, 0.4766,\n",
            "         0.1663, 0.8045, 0.6552, 0.1768, 0.8248, 0.8036, 0.9434]],\n",
            "       grad_fn=<EmbeddingBackward0>)\n"
          ]
        }
      ]
    },
    {
      "cell_type": "markdown",
      "metadata": {
        "id": "4QfoANibTzyh"
      },
      "source": [
        "## Visualize the initial node embeddings\n",
        "One good way to understand an embedding matrix, is to visualize it in a 2D space.\n",
        "Here, we have implemented an embedding visualization function for you.\n",
        "We first do PCA to reduce the dimensionality of embeddings to a 2D space.\n",
        "Then we visualize each point, colored by the community it belongs to."
      ]
    },
    {
      "cell_type": "code",
      "metadata": {
        "id": "_LCoIkarhfYD",
        "colab": {
          "base_uri": "https://localhost:8080/",
          "height": 522
        },
        "outputId": "d0e0c5ed-841c-4f6f-bb40-c5b0546ba80f"
      },
      "source": [
        "def visualize_emb(emb):\n",
        "  X = emb.weight.data.numpy()\n",
        "  pca = PCA(n_components=2)\n",
        "  components = pca.fit_transform(X)\n",
        "  plt.figure(figsize=(6, 6))\n",
        "  club1_x = []\n",
        "  club1_y = []\n",
        "  club2_x = []\n",
        "  club2_y = []\n",
        "  for node in G.nodes(data=True):\n",
        "    if node[1]['club'] == 'Mr. Hi':\n",
        "      club1_x.append(components[node[0]][0])\n",
        "      club1_y.append(components[node[0]][1])\n",
        "    else:\n",
        "      club2_x.append(components[node[0]][0])\n",
        "      club2_y.append(components[node[0]][1])\n",
        "  plt.scatter(club1_x, club1_y, color=\"red\", label=\"Mr. Hi\")\n",
        "  plt.scatter(club2_x, club2_y, color=\"blue\", label=\"Officer\")\n",
        "  plt.legend()\n",
        "  plt.show()\n",
        "\n",
        "# Visualize the initial random embeddding\n",
        "visualize_emb(emb)"
      ],
      "execution_count": 111,
      "outputs": [
        {
          "output_type": "display_data",
          "data": {
            "text/plain": [
              "<Figure size 600x600 with 1 Axes>"
            ],
            "image/png": "[encoded data removed]"
          },
          "metadata": {}
        }
      ]
    },
    {
      "cell_type": "markdown",
      "metadata": {
        "id": "bQIyuEz9ANb2"
      },
      "source": [
        "## Question 7: Training the embedding! What is the best performance you can get? (20 Points)\n",
        "\n",
        "We want to optimize our embeddings for the task of classifying edges as positive or negative. Given an edge and the embeddings for each node, the dot product of the embeddings, followed by a sigmoid, should give us the likelihood of that edge being either positive (output of sigmoid > 0.5) or negative (output of sigmoid < 0.5).\n",
        "\n",
        "Note that we're using the functions you wrote in the previous questions, _as well as the variables initialized in previous cells_. If you're running into issues, make sure your answers to questions 1-6 are correct."
      ]
    },
    {
      "cell_type": "code",
      "metadata": {
        "id": "RDeQTNNxqH0j",
        "colab": {
          "base_uri": "https://localhost:8080/"
        },
        "outputId": "496c3f46-794b-4620-d67f-9820674f51eb"
      },
      "source": [
        "from torch.optim import SGD\n",
        "import torch.nn as nn\n",
        "\n",
        "def accuracy(pred, label):\n",
        "  # TODO: Implement the accuracy function. This function takes the\n",
        "  # pred tensor (the resulting tensor after sigmoid) and the label\n",
        "  # tensor (torch.LongTensor). Predicted value greater than 0.5 will\n",
        "  # be classified as label 1. Else it will be classified as label 0.\n",
        "  # The returned accuracy should be rounded to 4 decimal places.\n",
        "  # For example, accuracy 0.82956 will be rounded to 0.8296.\n",
        "\n",
        "  accu = 0.0\n",
        "\n",
        "  ############# Your code here ############\n",
        "\n",
        "  trials = pred.shape[0]\n",
        "\n",
        "  accu = torch.sum(torch.round(pred) == label) / trials\n",
        "  accu = round(accu.item(), 4)\n",
        "\n",
        "  #########################################\n",
        "\n",
        "  return accu\n",
        "\n",
        "def train(emb, loss_fn, train_label, train_edge):\n",
        "  # TODO: Train the embedding layer here. You can also change epochs and\n",
        "  # learning rate. In general, you need to implement:\n",
        "  # (1) Get the embeddings of the nodes in train_edge\n",
        "  # (2) Dot product the embeddings between each node pair\n",
        "  # (3) Feed the dot product result into sigmoid\n",
        "  # (4) Feed the sigmoid output into the loss_fn\n",
        "  # (5) Print both loss and accuracy of each epoch\n",
        "  # (6) Update the embeddings using the loss and optimizer\n",
        "  # (as a sanity check, the loss should decrease during training)\n",
        "\n",
        "  epochs = 500\n",
        "  learning_rate = 0.1\n",
        "\n",
        "  optimizer = SGD(emb.parameters(), lr=learning_rate, momentum=0.9)\n",
        "\n",
        "  for i in range(epochs):\n",
        "\n",
        "    ############# Your code here ############\n",
        "\n",
        "    optimizer.zero_grad()\n",
        "\n",
        "    embeddings = emb(train_edge)\n",
        "    dot_products = torch.einsum('nd,nd->n', embeddings[0], embeddings[1])\n",
        "\n",
        "    activation = nn.Sigmoid()\n",
        "    output = activation(dot_products)\n",
        "\n",
        "    loss = loss_fn(output, train_label)\n",
        "\n",
        "    print(f\"Epoch {i + 1}: \\tLoss = {loss}\\tAccuracy = {accuracy(output, train_label)}\")\n",
        "\n",
        "    loss.backward()\n",
        "    optimizer.step()\n",
        "\n",
        "    #########################################\n",
        "\n",
        "  return emb\n",
        "\n",
        "loss_fn = nn.BCELoss()\n",
        "\n",
        "print(pos_edge_index.shape)\n",
        "\n",
        "# Generate the positive and negative labels\n",
        "pos_label = torch.ones(pos_edge_index.shape[1], )\n",
        "neg_label = torch.zeros(neg_edge_index.shape[1], )\n",
        "\n",
        "# Concat positive and negative labels into one tensor\n",
        "train_label = torch.cat([pos_label, neg_label], dim=0)\n",
        "\n",
        "# Concat positive and negative edges into one tensor\n",
        "# Since the network is very small, we do not split the edges into val/test sets\n",
        "train_edge = torch.cat([pos_edge_index, neg_edge_index], dim=1)\n",
        "print(train_edge.shape)\n",
        "\n",
        "train(emb, loss_fn, train_label, train_edge)"
      ],
      "execution_count": 112,
      "outputs": [
        {
          "output_type": "stream",
          "name": "stdout",
          "text": [
            "torch.Size([2, 78])\n",
            "torch.Size([2, 156])\n",
            "Epoch 1: \tLoss = 1.9661688804626465\tAccuracy = 0.5\n",
            "Epoch 2: \tLoss = 1.9511938095092773\tAccuracy = 0.5\n",
            "Epoch 3: \tLoss = 1.922985553741455\tAccuracy = 0.5\n",
            "Epoch 4: \tLoss = 1.8833158016204834\tAccuracy = 0.5\n",
            "Epoch 5: \tLoss = 1.833939552307129\tAccuracy = 0.5\n",
            "Epoch 6: \tLoss = 1.7765661478042603\tAccuracy = 0.5\n",
            "Epoch 7: \tLoss = 1.712835431098938\tAccuracy = 0.5\n",
            "Epoch 8: \tLoss = 1.6442999839782715\tAccuracy = 0.5\n",
            "Epoch 9: \tLoss = 1.5724135637283325\tAccuracy = 0.5\n",
            "Epoch 10: \tLoss = 1.4985162019729614\tAccuracy = 0.5\n",
            "Epoch 11: \tLoss = 1.4238300323486328\tAccuracy = 0.5\n",
            "Epoch 12: \tLoss = 1.3494477272033691\tAccuracy = 0.5\n",
            "Epoch 13: \tLoss = 1.276327133178711\tAccuracy = 0.5\n",
            "Epoch 14: \tLoss = 1.2052849531173706\tAccuracy = 0.5\n",
            "Epoch 15: \tLoss = 1.1369949579238892\tAccuracy = 0.5\n",
            "Epoch 16: \tLoss = 1.0719882249832153\tAccuracy = 0.5\n",
            "Epoch 17: \tLoss = 1.0106570720672607\tAccuracy = 0.5\n",
            "Epoch 18: \tLoss = 0.9532644748687744\tAccuracy = 0.5\n",
            "Epoch 19: \tLoss = 0.8999555706977844\tAccuracy = 0.5\n",
            "Epoch 20: \tLoss = 0.8507720828056335\tAccuracy = 0.5064\n",
            "Epoch 21: \tLoss = 0.8056684136390686\tAccuracy = 0.5064\n",
            "Epoch 22: \tLoss = 0.7645286321640015\tAccuracy = 0.5064\n",
            "Epoch 23: \tLoss = 0.7271814346313477\tAccuracy = 0.5128\n",
            "Epoch 24: \tLoss = 0.6934157013893127\tAccuracy = 0.5385\n",
            "Epoch 25: \tLoss = 0.6629934310913086\tAccuracy = 0.5513\n",
            "Epoch 26: \tLoss = 0.6356609463691711\tAccuracy = 0.5897\n",
            "Epoch 27: \tLoss = 0.6111582517623901\tAccuracy = 0.6218\n",
            "Epoch 28: \tLoss = 0.5892269015312195\tAccuracy = 0.6538\n",
            "Epoch 29: \tLoss = 0.5696155428886414\tAccuracy = 0.6667\n",
            "Epoch 30: \tLoss = 0.5520843863487244\tAccuracy = 0.6795\n",
            "Epoch 31: \tLoss = 0.5364078879356384\tAccuracy = 0.7308\n",
            "Epoch 32: \tLoss = 0.5223767161369324\tAccuracy = 0.7436\n",
            "Epoch 33: \tLoss = 0.5097988247871399\tAccuracy = 0.7628\n",
            "Epoch 34: \tLoss = 0.4984993636608124\tAccuracy = 0.8013\n",
            "Epoch 35: \tLoss = 0.4883202910423279\tAccuracy = 0.8141\n",
            "Epoch 36: \tLoss = 0.4791199564933777\tAccuracy = 0.8205\n",
            "Epoch 37: \tLoss = 0.4707720875740051\tAccuracy = 0.8205\n",
            "Epoch 38: \tLoss = 0.46316444873809814\tAccuracy = 0.8205\n",
            "Epoch 39: \tLoss = 0.4561980366706848\tAccuracy = 0.8141\n",
            "Epoch 40: \tLoss = 0.4497854709625244\tAccuracy = 0.8269\n",
            "Epoch 41: \tLoss = 0.44385039806365967\tAccuracy = 0.8205\n",
            "Epoch 42: \tLoss = 0.43832582235336304\tAccuracy = 0.8141\n",
            "Epoch 43: \tLoss = 0.43315359950065613\tAccuracy = 0.8205\n",
            "Epoch 44: \tLoss = 0.42828279733657837\tAccuracy = 0.8205\n",
            "Epoch 45: \tLoss = 0.42366987466812134\tAccuracy = 0.8269\n",
            "Epoch 46: \tLoss = 0.41927656531333923\tAccuracy = 0.8462\n",
            "Epoch 47: \tLoss = 0.4150703549385071\tAccuracy = 0.8397\n",
            "Epoch 48: \tLoss = 0.41102316975593567\tAccuracy = 0.8397\n",
            "Epoch 49: \tLoss = 0.40711089968681335\tAccuracy = 0.8462\n",
            "Epoch 50: \tLoss = 0.4033131003379822\tAccuracy = 0.8462\n",
            "Epoch 51: \tLoss = 0.39961227774620056\tAccuracy = 0.8462\n",
            "Epoch 52: \tLoss = 0.395993709564209\tAccuracy = 0.8462\n",
            "Epoch 53: \tLoss = 0.3924448490142822\tAccuracy = 0.8526\n",
            "Epoch 54: \tLoss = 0.388955295085907\tAccuracy = 0.8526\n",
            "Epoch 55: \tLoss = 0.38551634550094604\tAccuracy = 0.8526\n",
            "Epoch 56: \tLoss = 0.38212066888809204\tAccuracy = 0.8526\n",
            "Epoch 57: \tLoss = 0.3787623643875122\tAccuracy = 0.8526\n",
            "Epoch 58: \tLoss = 0.3754365146160126\tAccuracy = 0.8654\n",
            "Epoch 59: \tLoss = 0.3721391558647156\tAccuracy = 0.8782\n",
            "Epoch 60: \tLoss = 0.3688671290874481\tAccuracy = 0.8846\n",
            "Epoch 61: \tLoss = 0.3656179904937744\tAccuracy = 0.891\n",
            "Epoch 62: \tLoss = 0.3623897433280945\tAccuracy = 0.891\n",
            "Epoch 63: \tLoss = 0.35918086767196655\tAccuracy = 0.891\n",
            "Epoch 64: \tLoss = 0.35599035024642944\tAccuracy = 0.891\n",
            "Epoch 65: \tLoss = 0.3528173565864563\tAccuracy = 0.891\n",
            "Epoch 66: \tLoss = 0.3496614098548889\tAccuracy = 0.891\n",
            "Epoch 67: \tLoss = 0.3465222716331482\tAccuracy = 0.8974\n",
            "Epoch 68: \tLoss = 0.34339970350265503\tAccuracy = 0.8974\n",
            "Epoch 69: \tLoss = 0.3402937948703766\tAccuracy = 0.9038\n",
            "Epoch 70: \tLoss = 0.33720460534095764\tAccuracy = 0.9038\n",
            "Epoch 71: \tLoss = 0.3341323733329773\tAccuracy = 0.9038\n",
            "Epoch 72: \tLoss = 0.3310772776603699\tAccuracy = 0.9103\n",
            "Epoch 73: \tLoss = 0.3280397057533264\tAccuracy = 0.9103\n",
            "Epoch 74: \tLoss = 0.325019896030426\tAccuracy = 0.9103\n",
            "Epoch 75: \tLoss = 0.3220181465148926\tAccuracy = 0.9103\n",
            "Epoch 76: \tLoss = 0.3190348446369171\tAccuracy = 0.9167\n",
            "Epoch 77: \tLoss = 0.3160702884197235\tAccuracy = 0.9231\n",
            "Epoch 78: \tLoss = 0.31312471628189087\tAccuracy = 0.9231\n",
            "Epoch 79: \tLoss = 0.310198575258255\tAccuracy = 0.9295\n",
            "Epoch 80: \tLoss = 0.30729204416275024\tAccuracy = 0.9295\n",
            "Epoch 81: \tLoss = 0.3044053912162781\tAccuracy = 0.9295\n",
            "Epoch 82: \tLoss = 0.3015388548374176\tAccuracy = 0.9295\n",
            "Epoch 83: \tLoss = 0.2986926734447479\tAccuracy = 0.9295\n",
            "Epoch 84: \tLoss = 0.29586702585220337\tAccuracy = 0.9295\n",
            "Epoch 85: \tLoss = 0.2930620610713959\tAccuracy = 0.9359\n",
            "Epoch 86: \tLoss = 0.29027795791625977\tAccuracy = 0.9359\n",
            "Epoch 87: \tLoss = 0.2875148057937622\tAccuracy = 0.9359\n",
            "Epoch 88: \tLoss = 0.28477272391319275\tAccuracy = 0.9359\n",
            "Epoch 89: \tLoss = 0.28205186128616333\tAccuracy = 0.9359\n",
            "Epoch 90: \tLoss = 0.2793521583080292\tAccuracy = 0.9359\n",
            "Epoch 91: \tLoss = 0.2766737937927246\tAccuracy = 0.9359\n",
            "Epoch 92: \tLoss = 0.27401667833328247\tAccuracy = 0.9359\n",
            "Epoch 93: \tLoss = 0.27138087153434753\tAccuracy = 0.9359\n",
            "Epoch 94: \tLoss = 0.2687664330005646\tAccuracy = 0.9423\n",
            "Epoch 95: \tLoss = 0.26617327332496643\tAccuracy = 0.9487\n",
            "Epoch 96: \tLoss = 0.2636014223098755\tAccuracy = 0.9487\n",
            "Epoch 97: \tLoss = 0.26105087995529175\tAccuracy = 0.9487\n",
            "Epoch 98: \tLoss = 0.25852149724960327\tAccuracy = 0.9487\n",
            "Epoch 99: \tLoss = 0.25601330399513245\tAccuracy = 0.9487\n",
            "Epoch 100: \tLoss = 0.2535262405872345\tAccuracy = 0.9487\n",
            "Epoch 101: \tLoss = 0.25106024742126465\tAccuracy = 0.9551\n",
            "Epoch 102: \tLoss = 0.24861526489257812\tAccuracy = 0.9551\n",
            "Epoch 103: \tLoss = 0.24619121849536896\tAccuracy = 0.9551\n",
            "Epoch 104: \tLoss = 0.2437880039215088\tAccuracy = 0.9615\n",
            "Epoch 105: \tLoss = 0.24140560626983643\tAccuracy = 0.9679\n",
            "Epoch 106: \tLoss = 0.2390439212322235\tAccuracy = 0.9679\n",
            "Epoch 107: \tLoss = 0.23670288920402527\tAccuracy = 0.9679\n",
            "Epoch 108: \tLoss = 0.23438236117362976\tAccuracy = 0.9679\n",
            "Epoch 109: \tLoss = 0.232082337141037\tAccuracy = 0.9679\n",
            "Epoch 110: \tLoss = 0.2298026978969574\tAccuracy = 0.9679\n",
            "Epoch 111: \tLoss = 0.22754336893558502\tAccuracy = 0.9679\n",
            "Epoch 112: \tLoss = 0.2253042608499527\tAccuracy = 0.9679\n",
            "Epoch 113: \tLoss = 0.22308529913425446\tAccuracy = 0.9679\n",
            "Epoch 114: \tLoss = 0.22088642418384552\tAccuracy = 0.9679\n",
            "Epoch 115: \tLoss = 0.21870750188827515\tAccuracy = 0.9679\n",
            "Epoch 116: \tLoss = 0.21654847264289856\tAccuracy = 0.9679\n",
            "Epoch 117: \tLoss = 0.2144092619419098\tAccuracy = 0.9744\n",
            "Epoch 118: \tLoss = 0.21228983998298645\tAccuracy = 0.9744\n",
            "Epoch 119: \tLoss = 0.2101900428533554\tAccuracy = 0.9744\n",
            "Epoch 120: \tLoss = 0.2081098109483719\tAccuracy = 0.9744\n",
            "Epoch 121: \tLoss = 0.20604906976222992\tAccuracy = 0.9744\n",
            "Epoch 122: \tLoss = 0.20400772988796234\tAccuracy = 0.9744\n",
            "Epoch 123: \tLoss = 0.20198574662208557\tAccuracy = 0.9808\n",
            "Epoch 124: \tLoss = 0.19998301565647125\tAccuracy = 0.9808\n",
            "Epoch 125: \tLoss = 0.19799941778182983\tAccuracy = 0.9872\n",
            "Epoch 126: \tLoss = 0.19603493809700012\tAccuracy = 0.9872\n",
            "Epoch 127: \tLoss = 0.19408944249153137\tAccuracy = 0.9872\n",
            "Epoch 128: \tLoss = 0.1921628713607788\tAccuracy = 0.9872\n",
            "Epoch 129: \tLoss = 0.19025512039661407\tAccuracy = 0.9936\n",
            "Epoch 130: \tLoss = 0.1883661150932312\tAccuracy = 0.9936\n",
            "Epoch 131: \tLoss = 0.1864957958459854\tAccuracy = 0.9936\n",
            "Epoch 132: \tLoss = 0.18464404344558716\tAccuracy = 0.9936\n",
            "Epoch 133: \tLoss = 0.18281078338623047\tAccuracy = 0.9936\n",
            "Epoch 134: \tLoss = 0.180995911359787\tAccuracy = 0.9936\n",
            "Epoch 135: \tLoss = 0.17919933795928955\tAccuracy = 0.9936\n",
            "Epoch 136: \tLoss = 0.1774209886789322\tAccuracy = 0.9936\n",
            "Epoch 137: \tLoss = 0.17566075921058655\tAccuracy = 0.9936\n",
            "Epoch 138: \tLoss = 0.17391853034496307\tAccuracy = 0.9936\n",
            "Epoch 139: \tLoss = 0.17219427227973938\tAccuracy = 0.9936\n",
            "Epoch 140: \tLoss = 0.17048780620098114\tAccuracy = 1.0\n",
            "Epoch 141: \tLoss = 0.16879908740520477\tAccuracy = 1.0\n",
            "Epoch 142: \tLoss = 0.16712798178195953\tAccuracy = 1.0\n",
            "Epoch 143: \tLoss = 0.16547439992427826\tAccuracy = 1.0\n",
            "Epoch 144: \tLoss = 0.1638382524251938\tAccuracy = 1.0\n",
            "Epoch 145: \tLoss = 0.16221944987773895\tAccuracy = 1.0\n",
            "Epoch 146: \tLoss = 0.16061779856681824\tAccuracy = 1.0\n",
            "Epoch 147: \tLoss = 0.15903326869010925\tAccuracy = 1.0\n",
            "Epoch 148: \tLoss = 0.15746572613716125\tAccuracy = 1.0\n",
            "Epoch 149: \tLoss = 0.1559150665998459\tAccuracy = 1.0\n",
            "Epoch 150: \tLoss = 0.1543811559677124\tAccuracy = 1.0\n",
            "Epoch 151: \tLoss = 0.15286387503147125\tAccuracy = 1.0\n",
            "Epoch 152: \tLoss = 0.15136313438415527\tAccuracy = 1.0\n",
            "Epoch 153: \tLoss = 0.14987881481647491\tAccuracy = 1.0\n",
            "Epoch 154: \tLoss = 0.14841075241565704\tAccuracy = 1.0\n",
            "Epoch 155: \tLoss = 0.1469588577747345\tAccuracy = 1.0\n",
            "Epoch 156: \tLoss = 0.1455230414867401\tAccuracy = 1.0\n",
            "Epoch 157: \tLoss = 0.14410312473773956\tAccuracy = 1.0\n",
            "Epoch 158: \tLoss = 0.1426990032196045\tAccuracy = 1.0\n",
            "Epoch 159: \tLoss = 0.14131054282188416\tAccuracy = 1.0\n",
            "Epoch 160: \tLoss = 0.1399376392364502\tAccuracy = 1.0\n",
            "Epoch 161: \tLoss = 0.13858014345169067\tAccuracy = 1.0\n",
            "Epoch 162: \tLoss = 0.13723792135715485\tAccuracy = 1.0\n",
            "Epoch 163: \tLoss = 0.13591088354587555\tAccuracy = 1.0\n",
            "Epoch 164: \tLoss = 0.13459883630275726\tAccuracy = 1.0\n",
            "Epoch 165: \tLoss = 0.1333017349243164\tAccuracy = 1.0\n",
            "Epoch 166: \tLoss = 0.13201935589313507\tAccuracy = 1.0\n",
            "Epoch 167: \tLoss = 0.1307516247034073\tAccuracy = 1.0\n",
            "Epoch 168: \tLoss = 0.12949837744235992\tAccuracy = 1.0\n",
            "Epoch 169: \tLoss = 0.12825950980186462\tAccuracy = 1.0\n",
            "Epoch 170: \tLoss = 0.12703485786914825\tAccuracy = 1.0\n",
            "Epoch 171: \tLoss = 0.12582434713840485\tAccuracy = 1.0\n",
            "Epoch 172: \tLoss = 0.1246277391910553\tAccuracy = 1.0\n",
            "Epoch 173: \tLoss = 0.12344498187303543\tAccuracy = 1.0\n",
            "Epoch 174: \tLoss = 0.12227591127157211\tAccuracy = 1.0\n",
            "Epoch 175: \tLoss = 0.1211204007267952\tAccuracy = 1.0\n",
            "Epoch 176: \tLoss = 0.11997833102941513\tAccuracy = 1.0\n",
            "Epoch 177: \tLoss = 0.11884954571723938\tAccuracy = 1.0\n",
            "Epoch 178: \tLoss = 0.1177339032292366\tAccuracy = 1.0\n",
            "Epoch 179: \tLoss = 0.11663127690553665\tAccuracy = 1.0\n",
            "Epoch 180: \tLoss = 0.11554155498743057\tAccuracy = 1.0\n",
            "Epoch 181: \tLoss = 0.11446456611156464\tAccuracy = 1.0\n",
            "Epoch 182: \tLoss = 0.11340019106864929\tAccuracy = 1.0\n",
            "Epoch 183: \tLoss = 0.11234832555055618\tAccuracy = 1.0\n",
            "Epoch 184: \tLoss = 0.11130876839160919\tAccuracy = 1.0\n",
            "Epoch 185: \tLoss = 0.11028146743774414\tAccuracy = 1.0\n",
            "Epoch 186: \tLoss = 0.10926622152328491\tAccuracy = 1.0\n",
            "Epoch 187: \tLoss = 0.10826291888952255\tAccuracy = 1.0\n",
            "Epoch 188: \tLoss = 0.1072714626789093\tAccuracy = 1.0\n",
            "Epoch 189: \tLoss = 0.10629168897867203\tAccuracy = 1.0\n",
            "Epoch 190: \tLoss = 0.10532344877719879\tAccuracy = 1.0\n",
            "Epoch 191: \tLoss = 0.10436666756868362\tAccuracy = 1.0\n",
            "Epoch 192: \tLoss = 0.1034211739897728\tAccuracy = 1.0\n",
            "Epoch 193: \tLoss = 0.10248684138059616\tAccuracy = 1.0\n",
            "Epoch 194: \tLoss = 0.10156355798244476\tAccuracy = 1.0\n",
            "Epoch 195: \tLoss = 0.10065119713544846\tAccuracy = 1.0\n",
            "Epoch 196: \tLoss = 0.0997496172785759\tAccuracy = 1.0\n",
            "Epoch 197: \tLoss = 0.09885870665311813\tAccuracy = 1.0\n",
            "Epoch 198: \tLoss = 0.09797833114862442\tAccuracy = 1.0\n",
            "Epoch 199: \tLoss = 0.0971083790063858\tAccuracy = 1.0\n",
            "Epoch 200: \tLoss = 0.09624870121479034\tAccuracy = 1.0\n",
            "Epoch 201: \tLoss = 0.09539920836687088\tAccuracy = 1.0\n",
            "Epoch 202: \tLoss = 0.09455975145101547\tAccuracy = 1.0\n",
            "Epoch 203: \tLoss = 0.09373022615909576\tAccuracy = 1.0\n",
            "Epoch 204: \tLoss = 0.0929105207324028\tAccuracy = 1.0\n",
            "Epoch 205: \tLoss = 0.09210048615932465\tAccuracy = 1.0\n",
            "Epoch 206: \tLoss = 0.09130003303289413\tAccuracy = 1.0\n",
            "Epoch 207: \tLoss = 0.09050904214382172\tAccuracy = 1.0\n",
            "Epoch 208: \tLoss = 0.08972739428281784\tAccuracy = 1.0\n",
            "Epoch 209: \tLoss = 0.08895496279001236\tAccuracy = 1.0\n",
            "Epoch 210: \tLoss = 0.08819163590669632\tAccuracy = 1.0\n",
            "Epoch 211: \tLoss = 0.08743732422590256\tAccuracy = 1.0\n",
            "Epoch 212: \tLoss = 0.08669188618659973\tAccuracy = 1.0\n",
            "Epoch 213: \tLoss = 0.08595523238182068\tAccuracy = 1.0\n",
            "Epoch 214: \tLoss = 0.08522725105285645\tAccuracy = 1.0\n",
            "Epoch 215: \tLoss = 0.08450781553983688\tAccuracy = 1.0\n",
            "Epoch 216: \tLoss = 0.08379684388637543\tAccuracy = 1.0\n",
            "Epoch 217: \tLoss = 0.08309420198202133\tAccuracy = 1.0\n",
            "Epoch 218: \tLoss = 0.08239981532096863\tAccuracy = 1.0\n",
            "Epoch 219: \tLoss = 0.08171355724334717\tAccuracy = 1.0\n",
            "Epoch 220: \tLoss = 0.0810353234410286\tAccuracy = 1.0\n",
            "Epoch 221: \tLoss = 0.08036503940820694\tAccuracy = 1.0\n",
            "Epoch 222: \tLoss = 0.07970257103443146\tAccuracy = 1.0\n",
            "Epoch 223: \tLoss = 0.07904782891273499\tAccuracy = 1.0\n",
            "Epoch 224: \tLoss = 0.07840072363615036\tAccuracy = 1.0\n",
            "Epoch 225: \tLoss = 0.07776115089654922\tAccuracy = 1.0\n",
            "Epoch 226: \tLoss = 0.07712900638580322\tAccuracy = 1.0\n",
            "Epoch 227: \tLoss = 0.07650420814752579\tAccuracy = 1.0\n",
            "Epoch 228: \tLoss = 0.07588664442300797\tAccuracy = 1.0\n",
            "Epoch 229: \tLoss = 0.07527624815702438\tAccuracy = 1.0\n",
            "Epoch 230: \tLoss = 0.0746728926897049\tAccuracy = 1.0\n",
            "Epoch 231: \tLoss = 0.07407651841640472\tAccuracy = 1.0\n",
            "Epoch 232: \tLoss = 0.07348702102899551\tAccuracy = 1.0\n",
            "Epoch 233: \tLoss = 0.0729043036699295\tAccuracy = 1.0\n",
            "Epoch 234: \tLoss = 0.07232827693223953\tAccuracy = 1.0\n",
            "Epoch 235: \tLoss = 0.07175887376070023\tAccuracy = 1.0\n",
            "Epoch 236: \tLoss = 0.07119599729776382\tAccuracy = 1.0\n",
            "Epoch 237: \tLoss = 0.07063955813646317\tAccuracy = 1.0\n",
            "Epoch 238: \tLoss = 0.07008947432041168\tAccuracy = 1.0\n",
            "Epoch 239: \tLoss = 0.0695456713438034\tAccuracy = 1.0\n",
            "Epoch 240: \tLoss = 0.06900804489850998\tAccuracy = 1.0\n",
            "Epoch 241: \tLoss = 0.06847652792930603\tAccuracy = 1.0\n",
            "Epoch 242: \tLoss = 0.06795104593038559\tAccuracy = 1.0\n",
            "Epoch 243: \tLoss = 0.06743152439594269\tAccuracy = 1.0\n",
            "Epoch 244: \tLoss = 0.06691785901784897\tAccuracy = 1.0\n",
            "Epoch 245: \tLoss = 0.06640999019145966\tAccuracy = 1.0\n",
            "Epoch 246: \tLoss = 0.06590784341096878\tAccuracy = 1.0\n",
            "Epoch 247: \tLoss = 0.06541133671998978\tAccuracy = 1.0\n",
            "Epoch 248: \tLoss = 0.06492040306329727\tAccuracy = 1.0\n",
            "Epoch 249: \tLoss = 0.0644349604845047\tAccuracy = 1.0\n",
            "Epoch 250: \tLoss = 0.06395494937896729\tAccuracy = 1.0\n",
            "Epoch 251: \tLoss = 0.06348028033971786\tAccuracy = 1.0\n",
            "Epoch 252: \tLoss = 0.06301089376211166\tAccuracy = 1.0\n",
            "Epoch 253: \tLoss = 0.06254671514034271\tAccuracy = 1.0\n",
            "Epoch 254: \tLoss = 0.062087688595056534\tAccuracy = 1.0\n",
            "Epoch 255: \tLoss = 0.06163373216986656\tAccuracy = 1.0\n",
            "Epoch 256: \tLoss = 0.06118478998541832\tAccuracy = 1.0\n",
            "Epoch 257: \tLoss = 0.06074078381061554\tAccuracy = 1.0\n",
            "Epoch 258: \tLoss = 0.06030166521668434\tAccuracy = 1.0\n",
            "Epoch 259: \tLoss = 0.05986734479665756\tAccuracy = 1.0\n",
            "Epoch 260: \tLoss = 0.05943778157234192\tAccuracy = 1.0\n",
            "Epoch 261: \tLoss = 0.05901290103793144\tAccuracy = 1.0\n",
            "Epoch 262: \tLoss = 0.058592651039361954\tAccuracy = 1.0\n",
            "Epoch 263: \tLoss = 0.05817696452140808\tAccuracy = 1.0\n",
            "Epoch 264: \tLoss = 0.05776578187942505\tAccuracy = 1.0\n",
            "Epoch 265: \tLoss = 0.05735903978347778\tAccuracy = 1.0\n",
            "Epoch 266: \tLoss = 0.0569566935300827\tAccuracy = 1.0\n",
            "Epoch 267: \tLoss = 0.05655866488814354\tAccuracy = 1.0\n",
            "Epoch 268: \tLoss = 0.05616491287946701\tAccuracy = 1.0\n",
            "Epoch 269: \tLoss = 0.05577539652585983\tAccuracy = 1.0\n",
            "Epoch 270: \tLoss = 0.055390022695064545\tAccuracy = 1.0\n",
            "Epoch 271: \tLoss = 0.05500875413417816\tAccuracy = 1.0\n",
            "Epoch 272: \tLoss = 0.0546315461397171\tAccuracy = 1.0\n",
            "Epoch 273: \tLoss = 0.05425833910703659\tAccuracy = 1.0\n",
            "Epoch 274: \tLoss = 0.05388907343149185\tAccuracy = 1.0\n",
            "Epoch 275: \tLoss = 0.053523700684309006\tAccuracy = 1.0\n",
            "Epoch 276: \tLoss = 0.053162191063165665\tAccuracy = 1.0\n",
            "Epoch 277: \tLoss = 0.052804458886384964\tAccuracy = 1.0\n",
            "Epoch 278: \tLoss = 0.05245048552751541\tAccuracy = 1.0\n",
            "Epoch 279: \tLoss = 0.05210019275546074\tAccuracy = 1.0\n",
            "Epoch 280: \tLoss = 0.051753561943769455\tAccuracy = 1.0\n",
            "Epoch 281: \tLoss = 0.051410529762506485\tAccuracy = 1.0\n",
            "Epoch 282: \tLoss = 0.051071055233478546\tAccuracy = 1.0\n",
            "Epoch 283: \tLoss = 0.05073509365320206\tAccuracy = 1.0\n",
            "Epoch 284: \tLoss = 0.050402600318193436\tAccuracy = 1.0\n",
            "Epoch 285: \tLoss = 0.05007351189851761\tAccuracy = 1.0\n",
            "Epoch 286: \tLoss = 0.049747806042432785\tAccuracy = 1.0\n",
            "Epoch 287: \tLoss = 0.04942544177174568\tAccuracy = 1.0\n",
            "Epoch 288: \tLoss = 0.049106352031230927\tAccuracy = 1.0\n",
            "Epoch 289: \tLoss = 0.04879051446914673\tAccuracy = 1.0\n",
            "Epoch 290: \tLoss = 0.04847788065671921\tAccuracy = 1.0\n",
            "Epoch 291: \tLoss = 0.04816841334104538\tAccuracy = 1.0\n",
            "Epoch 292: \tLoss = 0.04786207154393196\tAccuracy = 1.0\n",
            "Epoch 293: \tLoss = 0.047558803111314774\tAccuracy = 1.0\n",
            "Epoch 294: \tLoss = 0.047258589416742325\tAccuracy = 1.0\n",
            "Epoch 295: \tLoss = 0.04696137458086014\tAccuracy = 1.0\n",
            "Epoch 296: \tLoss = 0.04666713625192642\tAccuracy = 1.0\n",
            "Epoch 297: \tLoss = 0.0463758260011673\tAccuracy = 1.0\n",
            "Epoch 298: \tLoss = 0.04608740657567978\tAccuracy = 1.0\n",
            "Epoch 299: \tLoss = 0.045801836997270584\tAccuracy = 1.0\n",
            "Epoch 300: \tLoss = 0.045519087463617325\tAccuracy = 1.0\n",
            "Epoch 301: \tLoss = 0.04523913189768791\tAccuracy = 1.0\n",
            "Epoch 302: \tLoss = 0.044961921870708466\tAccuracy = 1.0\n",
            "Epoch 303: \tLoss = 0.044687431305646896\tAccuracy = 1.0\n",
            "Epoch 304: \tLoss = 0.04441561922430992\tAccuracy = 1.0\n",
            "Epoch 305: \tLoss = 0.04414644464850426\tAccuracy = 1.0\n",
            "Epoch 306: \tLoss = 0.04387989267706871\tAccuracy = 1.0\n",
            "Epoch 307: \tLoss = 0.043615926057100296\tAccuracy = 1.0\n",
            "Epoch 308: \tLoss = 0.04335450008511543\tAccuracy = 1.0\n",
            "Epoch 309: \tLoss = 0.04309559613466263\tAccuracy = 1.0\n",
            "Epoch 310: \tLoss = 0.042839184403419495\tAccuracy = 1.0\n",
            "Epoch 311: \tLoss = 0.04258522018790245\tAccuracy = 1.0\n",
            "Epoch 312: \tLoss = 0.042333681136369705\tAccuracy = 1.0\n",
            "Epoch 313: \tLoss = 0.04208454117178917\tAccuracy = 1.0\n",
            "Epoch 314: \tLoss = 0.04183776676654816\tAccuracy = 1.0\n",
            "Epoch 315: \tLoss = 0.04159333184361458\tAccuracy = 1.0\n",
            "Epoch 316: \tLoss = 0.04135119542479515\tAccuracy = 1.0\n",
            "Epoch 317: \tLoss = 0.04111134633421898\tAccuracy = 1.0\n",
            "Epoch 318: \tLoss = 0.040873751044273376\tAccuracy = 1.0\n",
            "Epoch 319: \tLoss = 0.040638379752635956\tAccuracy = 1.0\n",
            "Epoch 320: \tLoss = 0.04040520638227463\tAccuracy = 1.0\n",
            "Epoch 321: \tLoss = 0.040174197405576706\tAccuracy = 1.0\n",
            "Epoch 322: \tLoss = 0.0399453341960907\tAccuracy = 1.0\n",
            "Epoch 323: \tLoss = 0.039718590676784515\tAccuracy = 1.0\n",
            "Epoch 324: \tLoss = 0.03949393704533577\tAccuracy = 1.0\n",
            "Epoch 325: \tLoss = 0.03927135840058327\tAccuracy = 1.0\n",
            "Epoch 326: \tLoss = 0.039050810039043427\tAccuracy = 1.0\n",
            "Epoch 327: \tLoss = 0.03883229196071625\tAccuracy = 1.0\n",
            "Epoch 328: \tLoss = 0.03861575946211815\tAccuracy = 1.0\n",
            "Epoch 329: \tLoss = 0.03840120509266853\tAccuracy = 1.0\n",
            "Epoch 330: \tLoss = 0.038188591599464417\tAccuracy = 1.0\n",
            "Epoch 331: \tLoss = 0.037977904081344604\tAccuracy = 1.0\n",
            "Epoch 332: \tLoss = 0.03776911273598671\tAccuracy = 1.0\n",
            "Epoch 333: \tLoss = 0.03756220266222954\tAccuracy = 1.0\n",
            "Epoch 334: \tLoss = 0.0373571515083313\tAccuracy = 1.0\n",
            "Epoch 335: \tLoss = 0.037153929471969604\tAccuracy = 1.0\n",
            "Epoch 336: \tLoss = 0.03695252165198326\tAccuracy = 1.0\n",
            "Epoch 337: \tLoss = 0.03675290569663048\tAccuracy = 1.0\n",
            "Epoch 338: \tLoss = 0.036555059254169464\tAccuracy = 1.0\n",
            "Epoch 339: \tLoss = 0.03635895997285843\tAccuracy = 1.0\n",
            "Epoch 340: \tLoss = 0.03616458177566528\tAccuracy = 1.0\n",
            "Epoch 341: \tLoss = 0.035971928387880325\tAccuracy = 1.0\n",
            "Epoch 342: \tLoss = 0.03578095883131027\tAccuracy = 1.0\n",
            "Epoch 343: \tLoss = 0.03559165075421333\tAccuracy = 1.0\n",
            "Epoch 344: \tLoss = 0.03540399298071861\tAccuracy = 1.0\n",
            "Epoch 345: \tLoss = 0.03521798178553581\tAccuracy = 1.0\n",
            "Epoch 346: \tLoss = 0.03503356873989105\tAccuracy = 1.0\n",
            "Epoch 347: \tLoss = 0.034850750118494034\tAccuracy = 1.0\n",
            "Epoch 348: \tLoss = 0.03466951102018356\tAccuracy = 1.0\n",
            "Epoch 349: \tLoss = 0.03448982536792755\tAccuracy = 1.0\n",
            "Epoch 350: \tLoss = 0.034311678260564804\tAccuracy = 1.0\n",
            "Epoch 351: \tLoss = 0.034135058522224426\tAccuracy = 1.0\n",
            "Epoch 352: \tLoss = 0.03395993635058403\tAccuracy = 1.0\n",
            "Epoch 353: \tLoss = 0.03378630802035332\tAccuracy = 1.0\n",
            "Epoch 354: \tLoss = 0.0336141400039196\tAccuracy = 1.0\n",
            "Epoch 355: \tLoss = 0.03344343602657318\tAccuracy = 1.0\n",
            "Epoch 356: \tLoss = 0.03327416628599167\tAccuracy = 1.0\n",
            "Epoch 357: \tLoss = 0.03310631960630417\tAccuracy = 1.0\n",
            "Epoch 358: \tLoss = 0.03293988108634949\tAccuracy = 1.0\n",
            "Epoch 359: \tLoss = 0.032774828374385834\tAccuracy = 1.0\n",
            "Epoch 360: \tLoss = 0.03261115029454231\tAccuracy = 1.0\n",
            "Epoch 361: \tLoss = 0.03244883194565773\tAccuracy = 1.0\n",
            "Epoch 362: \tLoss = 0.032287850975990295\tAccuracy = 1.0\n",
            "Epoch 363: \tLoss = 0.03212820738554001\tAccuracy = 1.0\n",
            "Epoch 364: \tLoss = 0.03196987882256508\tAccuracy = 1.0\n",
            "Epoch 365: \tLoss = 0.03181283921003342\tAccuracy = 1.0\n",
            "Epoch 366: \tLoss = 0.03165709227323532\tAccuracy = 1.0\n",
            "Epoch 367: \tLoss = 0.0315026193857193\tAccuracy = 1.0\n",
            "Epoch 368: \tLoss = 0.03134939819574356\tAccuracy = 1.0\n",
            "Epoch 369: \tLoss = 0.031197428703308105\tAccuracy = 1.0\n",
            "Epoch 370: \tLoss = 0.031046681106090546\tAccuracy = 1.0\n",
            "Epoch 371: \tLoss = 0.030897153541445732\tAccuracy = 1.0\n",
            "Epoch 372: \tLoss = 0.030748829245567322\tAccuracy = 1.0\n",
            "Epoch 373: \tLoss = 0.030601700767874718\tAccuracy = 1.0\n",
            "Epoch 374: \tLoss = 0.03045574203133583\tAccuracy = 1.0\n",
            "Epoch 375: \tLoss = 0.030310949310660362\tAccuracy = 1.0\n",
            "Epoch 376: \tLoss = 0.030167311429977417\tAccuracy = 1.0\n",
            "Epoch 377: \tLoss = 0.0300248134881258\tAccuracy = 1.0\n",
            "Epoch 378: \tLoss = 0.02988344058394432\tAccuracy = 1.0\n",
            "Epoch 379: \tLoss = 0.02974318154156208\tAccuracy = 1.0\n",
            "Epoch 380: \tLoss = 0.029604030773043633\tAccuracy = 1.0\n",
            "Epoch 381: \tLoss = 0.029465969651937485\tAccuracy = 1.0\n",
            "Epoch 382: \tLoss = 0.029328998178243637\tAccuracy = 1.0\n",
            "Epoch 383: \tLoss = 0.02919309027493\tAccuracy = 1.0\n",
            "Epoch 384: \tLoss = 0.029058236628770828\tAccuracy = 1.0\n",
            "Epoch 385: \tLoss = 0.028924431651830673\tAccuracy = 1.0\n",
            "Epoch 386: \tLoss = 0.02879166230559349\tAccuracy = 1.0\n",
            "Epoch 387: \tLoss = 0.028659911826252937\tAccuracy = 1.0\n",
            "Epoch 388: \tLoss = 0.02852918766438961\tAccuracy = 1.0\n",
            "Epoch 389: \tLoss = 0.02839946188032627\tAccuracy = 1.0\n",
            "Epoch 390: \tLoss = 0.02827073074877262\tAccuracy = 1.0\n",
            "Epoch 391: \tLoss = 0.02814297564327717\tAccuracy = 1.0\n",
            "Epoch 392: \tLoss = 0.028016196563839912\tAccuracy = 1.0\n",
            "Epoch 393: \tLoss = 0.027890382334589958\tAccuracy = 1.0\n",
            "Epoch 394: \tLoss = 0.02776552177965641\tAccuracy = 1.0\n",
            "Epoch 395: \tLoss = 0.027641596272587776\tAccuracy = 1.0\n",
            "Epoch 396: \tLoss = 0.027518609538674355\tAccuracy = 1.0\n",
            "Epoch 397: \tLoss = 0.02739654667675495\tAccuracy = 1.0\n",
            "Epoch 398: \tLoss = 0.02727540396153927\tAccuracy = 1.0\n",
            "Epoch 399: \tLoss = 0.027155151590704918\tAccuracy = 1.0\n",
            "Epoch 400: \tLoss = 0.027035804465413094\tAccuracy = 1.0\n",
            "Epoch 401: \tLoss = 0.026917342096567154\tAccuracy = 1.0\n",
            "Epoch 402: \tLoss = 0.02679975889623165\tAccuracy = 1.0\n",
            "Epoch 403: \tLoss = 0.026683039963245392\tAccuracy = 1.0\n",
            "Epoch 404: \tLoss = 0.026567190885543823\tAccuracy = 1.0\n",
            "Epoch 405: \tLoss = 0.026452187448740005\tAccuracy = 1.0\n",
            "Epoch 406: \tLoss = 0.026338037103414536\tAccuracy = 1.0\n",
            "Epoch 407: \tLoss = 0.02622469887137413\tAccuracy = 1.0\n",
            "Epoch 408: \tLoss = 0.02611219882965088\tAccuracy = 1.0\n",
            "Epoch 409: \tLoss = 0.02600051835179329\tAccuracy = 1.0\n",
            "Epoch 410: \tLoss = 0.025889648124575615\tAccuracy = 1.0\n",
            "Epoch 411: \tLoss = 0.02577958069741726\tAccuracy = 1.0\n",
            "Epoch 412: \tLoss = 0.02567029930651188\tAccuracy = 1.0\n",
            "Epoch 413: \tLoss = 0.02556181326508522\tAccuracy = 1.0\n",
            "Epoch 414: \tLoss = 0.025454100221395493\tAccuracy = 1.0\n",
            "Epoch 415: \tLoss = 0.025347158312797546\tAccuracy = 1.0\n",
            "Epoch 416: \tLoss = 0.025240981951355934\tAccuracy = 1.0\n",
            "Epoch 417: \tLoss = 0.02513555996119976\tAccuracy = 1.0\n",
            "Epoch 418: \tLoss = 0.02503088489174843\tAccuracy = 1.0\n",
            "Epoch 419: \tLoss = 0.02492695488035679\tAccuracy = 1.0\n",
            "Epoch 420: \tLoss = 0.024823755025863647\tAccuracy = 1.0\n",
            "Epoch 421: \tLoss = 0.024721277877688408\tAccuracy = 1.0\n",
            "Epoch 422: \tLoss = 0.024619529023766518\tAccuracy = 1.0\n",
            "Epoch 423: \tLoss = 0.024518493562936783\tAccuracy = 1.0\n",
            "Epoch 424: \tLoss = 0.02441815845668316\tAccuracy = 1.0\n",
            "Epoch 425: \tLoss = 0.024318527430295944\tAccuracy = 1.0\n",
            "Epoch 426: \tLoss = 0.024219581857323647\tAccuracy = 1.0\n",
            "Epoch 427: \tLoss = 0.024121327325701714\tAccuracy = 1.0\n",
            "Epoch 428: \tLoss = 0.02402375638484955\tAccuracy = 1.0\n",
            "Epoch 429: \tLoss = 0.02392684482038021\tAccuracy = 1.0\n",
            "Epoch 430: \tLoss = 0.023830614984035492\tAccuracy = 1.0\n",
            "Epoch 431: \tLoss = 0.023735037073493004\tAccuracy = 1.0\n",
            "Epoch 432: \tLoss = 0.023640116676688194\tAccuracy = 1.0\n",
            "Epoch 433: \tLoss = 0.02354584075510502\tAccuracy = 1.0\n",
            "Epoch 434: \tLoss = 0.02345220558345318\tAccuracy = 1.0\n",
            "Epoch 435: \tLoss = 0.02335921861231327\tAccuracy = 1.0\n",
            "Epoch 436: \tLoss = 0.023266848176717758\tAccuracy = 1.0\n",
            "Epoch 437: \tLoss = 0.023175107315182686\tAccuracy = 1.0\n",
            "Epoch 438: \tLoss = 0.02308397926390171\tAccuracy = 1.0\n",
            "Epoch 439: \tLoss = 0.02299347333610058\tAccuracy = 1.0\n",
            "Epoch 440: \tLoss = 0.022903572767972946\tAccuracy = 1.0\n",
            "Epoch 441: \tLoss = 0.02281426638364792\tAccuracy = 1.0\n",
            "Epoch 442: \tLoss = 0.022725557908415794\tAccuracy = 1.0\n",
            "Epoch 443: \tLoss = 0.022637441754341125\tAccuracy = 1.0\n",
            "Epoch 444: \tLoss = 0.022549916058778763\tAccuracy = 1.0\n",
            "Epoch 445: \tLoss = 0.022462958469986916\tAccuracy = 1.0\n",
            "Epoch 446: \tLoss = 0.02237658202648163\tAccuracy = 1.0\n",
            "Epoch 447: \tLoss = 0.022290775552392006\tAccuracy = 1.0\n",
            "Epoch 448: \tLoss = 0.022205529734492302\tAccuracy = 1.0\n",
            "Epoch 449: \tLoss = 0.02212083898484707\tAccuracy = 1.0\n",
            "Epoch 450: \tLoss = 0.022036712616682053\tAccuracy = 1.0\n",
            "Epoch 451: \tLoss = 0.021953126415610313\tAccuracy = 1.0\n",
            "Epoch 452: \tLoss = 0.0218700859695673\tAccuracy = 1.0\n",
            "Epoch 453: \tLoss = 0.02178758755326271\tAccuracy = 1.0\n",
            "Epoch 454: \tLoss = 0.02170562371611595\tAccuracy = 1.0\n",
            "Epoch 455: \tLoss = 0.021624183282256126\tAccuracy = 1.0\n",
            "Epoch 456: \tLoss = 0.021543271839618683\tAccuracy = 1.0\n",
            "Epoch 457: \tLoss = 0.021462878212332726\tAccuracy = 1.0\n",
            "Epoch 458: \tLoss = 0.021382998675107956\tAccuracy = 1.0\n",
            "Epoch 459: \tLoss = 0.021303629502654076\tAccuracy = 1.0\n",
            "Epoch 460: \tLoss = 0.021224774420261383\tAccuracy = 1.0\n",
            "Epoch 461: \tLoss = 0.021146411076188087\tAccuracy = 1.0\n",
            "Epoch 462: \tLoss = 0.021068548783659935\tAccuracy = 1.0\n",
            "Epoch 463: \tLoss = 0.02099117636680603\tAccuracy = 1.0\n",
            "Epoch 464: \tLoss = 0.02091430313885212\tAccuracy = 1.0\n",
            "Epoch 465: \tLoss = 0.020837903022766113\tAccuracy = 1.0\n",
            "Epoch 466: \tLoss = 0.020761989057064056\tAccuracy = 1.0\n",
            "Epoch 467: \tLoss = 0.020686548203229904\tAccuracy = 1.0\n",
            "Epoch 468: \tLoss = 0.020611580461263657\tAccuracy = 1.0\n",
            "Epoch 469: \tLoss = 0.02053707465529442\tAccuracy = 1.0\n",
            "Epoch 470: \tLoss = 0.020463041961193085\tAccuracy = 1.0\n",
            "Epoch 471: \tLoss = 0.020389467477798462\tAccuracy = 1.0\n",
            "Epoch 472: \tLoss = 0.020316343754529953\tAccuracy = 1.0\n",
            "Epoch 473: \tLoss = 0.020243674516677856\tAccuracy = 1.0\n",
            "Epoch 474: \tLoss = 0.020171457901597023\tAccuracy = 1.0\n",
            "Epoch 475: \tLoss = 0.02009967714548111\tAccuracy = 1.0\n",
            "Epoch 476: \tLoss = 0.020028341561555862\tAccuracy = 1.0\n",
            "Epoch 477: \tLoss = 0.019957443699240685\tAccuracy = 1.0\n",
            "Epoch 478: \tLoss = 0.01988697610795498\tAccuracy = 1.0\n",
            "Epoch 479: \tLoss = 0.019816935062408447\tAccuracy = 1.0\n",
            "Epoch 480: \tLoss = 0.019747324287891388\tAccuracy = 1.0\n",
            "Epoch 481: \tLoss = 0.019678130745887756\tAccuracy = 1.0\n",
            "Epoch 482: \tLoss = 0.01960936188697815\tAccuracy = 1.0\n",
            "Epoch 483: \tLoss = 0.019541006535291672\tAccuracy = 1.0\n",
            "Epoch 484: \tLoss = 0.019473060965538025\tAccuracy = 1.0\n",
            "Epoch 485: \tLoss = 0.01940551958978176\tAccuracy = 1.0\n",
            "Epoch 486: \tLoss = 0.019338395446538925\tAccuracy = 1.0\n",
            "Epoch 487: \tLoss = 0.01927165500819683\tAccuracy = 1.0\n",
            "Epoch 488: \tLoss = 0.019205329939723015\tAccuracy = 1.0\n",
            "Epoch 489: \tLoss = 0.01913939043879509\tAccuracy = 1.0\n",
            "Epoch 490: \tLoss = 0.019073840230703354\tAccuracy = 1.0\n",
            "Epoch 491: \tLoss = 0.019008683040738106\tAccuracy = 1.0\n",
            "Epoch 492: \tLoss = 0.018943913280963898\tAccuracy = 1.0\n",
            "Epoch 493: \tLoss = 0.018879519775509834\tAccuracy = 1.0\n",
            "Epoch 494: \tLoss = 0.018815500661730766\tAccuracy = 1.0\n",
            "Epoch 495: \tLoss = 0.01875186339020729\tAccuracy = 1.0\n",
            "Epoch 496: \tLoss = 0.01868860237300396\tAccuracy = 1.0\n",
            "Epoch 497: \tLoss = 0.018625706434249878\tAccuracy = 1.0\n",
            "Epoch 498: \tLoss = 0.018563175573945045\tAccuracy = 1.0\n",
            "Epoch 499: \tLoss = 0.018501009792089462\tAccuracy = 1.0\n",
            "Epoch 500: \tLoss = 0.01843920350074768\tAccuracy = 1.0\n"
          ]
        },
        {
          "output_type": "execute_result",
          "data": {
            "text/plain": [
              "Embedding(34, 16)"
            ]
          },
          "metadata": {},
          "execution_count": 112
        }
      ]
    },
    {
      "cell_type": "markdown",
      "metadata": {
        "id": "WX2PSXnTDiNi"
      },
      "source": [
        "## Visualize the final node embeddings\n",
        "Visualize your final embedding here!\n",
        "You can visually compare the figure with the previous embedding figure.\n",
        "After training, you should oberserve that the two classes are more evidently separated.\n",
        "This is a great sanitity check for your implementation as well."
      ]
    },
    {
      "cell_type": "code",
      "metadata": {
        "id": "MtNgl4VhYKow",
        "colab": {
          "base_uri": "https://localhost:8080/",
          "height": 522
        },
        "outputId": "a69df722-3671-4778-e2e4-13549010ff3e"
      },
      "source": [
        "# Visualize the final learned embedding\n",
        "visualize_emb(emb)"
      ],
      "execution_count": 113,
      "outputs": [
        {
          "output_type": "display_data",
          "data": {
            "text/plain": [
              "<Figure size 600x600 with 1 Axes>"
            ],
            "image/png": "[encoded data removed]"
          },
          "metadata": {}
        }
      ]
    },
    {
      "cell_type": "markdown",
      "metadata": {
        "id": "FTNyrAoSVeq9"
      },
      "source": [
        "# Submission"
      ]
    },
    {
      "cell_type": "markdown",
      "metadata": {
        "id": "E_E7J_GkVhY_"
      },
      "source": [
        "When you submit your assignment, you will have to download this file as an `.ipynb` file. Please name this file `CS224W_Colab_1.ipynb`. Make sure that the files are name correctly, otherwise the autograder will not be able to find your submission files."
      ]
    }
  ]
}